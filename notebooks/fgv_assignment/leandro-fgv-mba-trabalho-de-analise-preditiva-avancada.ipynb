{
 "cells": [
  {
   "cell_type": "markdown",
   "execution_count": null,
   "metadata": {},
   "source": [
    "# Apresentação\n",
    "\n",
    "O objetivo deste notebook é apresentar a solução para o trabalho individual proposto no módulo de **Análise Preditiva Avançada** do curso de MBA em Business Analytics e Big Data da FGV (turma Berrini).\n",
    "\n",
    "**Professores**\n",
    "* Gustavo Mirapalheta \n",
    "* Hitoshi Nagano\n",
    "\n",
    "| Item                                                                                                                                                            | Dados do Aluno                                                          |\n",
    "|-----------------------------------------------------------------------------------------------------------------------------------------------------------------|-------------------------------------------------------------------------|\n",
    "| Nome                                                                                                                                                            | Leandro Daniel                                                          |\n",
    "| Matrícula                                                                                                                                                       | A57622988                                                               |\n",
    "| E-mail                                                                                                                                                          | <a href=\"mailto:contato@leandrodaniel.com\">contato@leandrodaniel.com</a>|\n",
    "| <a href=\"https://github.com/ldaniel\"><img src=\"https://avatars2.githubusercontent.com/u/205534?s=460&v=4\" title=\"ldaniel\" width=\"50\" height=\"50\"></a>           | GitHub: https://github.com/ldaniel                                      |\n",
    "| <a href=\"https://www.kaggle.com/leandrodaniel\"><img src=\"https://avatars2.githubusercontent.com/u/205534?s=460&v=4\" title=\"ldaniel\" width=\"50\" height=\"50\"></a> | Kaggle: https://www.kaggle.com/leandrodaniel                            |"
   ]
  },
  {
   "cell_type": "markdown",
   "execution_count": null,
   "metadata": {},
   "source": [
    "## Enunciado do Trabalho\n",
    "\n",
    "### Questão 1\n",
    "Tomando por base o conjunto de dados MNIST, padrão do pacote Keras, defina e elabore uma rede neural sequencial, apresentando os formatos dos tensores de entrada e saída, bem como os tensores intermediários na rede. Treine e teste o modelo de rede neural sequencial desenvolvido, de forma que ele consiga atingir uma precisão de pelo menos 97% no teste, no reconhecimento das imagens de números escritos à mão livre. Compare o desempenho da rede neural no treino utilizando dados normalizados e não normalizados.após 50 épocas de treino. Aumente o número de camadas internas da rede neural e determine se isto melhora ou não a qualidade dos resultados no teste. Qual o número de camadas que você consideraria ideal?\n",
    "\n",
    "### Questão 2\n",
    "Resolva o mesmo problema da Questão 1 utilizando o algoritmo Random Forests. Tentem trabalhar a hiperparametrização para aumento do desempenho. Compare o seu melhor resultado com o resultado obtido na Questão 1 e comente."
   ]
  },
  {
   "cell_type": "markdown",
   "execution_count": null,
   "metadata": {},
   "source": [
    "# Configuração inicial"
   ]
  },
  {
   "cell_type": "markdown",
   "execution_count": null,
   "metadata": {},
   "source": [
    "## Instalando o TensorFlow\n",
    "\n",
    "Criado pela equipe do Google Brain, o TensorFlow é uma biblioteca de código aberto para computação numérica e machine learning em larga escala. O TensorFlow reúne uma série de modelos e algoritmos de *machine learning* e *deep learning* (também conhecido como redes neurais) e os torna úteis por meio de uma metáfora comum. Ele usa o Python para fornecer uma API de front-end (o que aparece na tela) conveniente para criar aplicativos com a estrutura, enquanto executa esses aplicativos em C ++ de alto desempenho."
   ]
  },
  {
   "cell_type": "code",
   "execution_count": 1,
   "metadata": {
    "_kg_hide-output": false
   },
   "outputs": [
    {
     "name": "stdout",
     "output_type": "stream",
     "text": [
      "Collecting tensorflow-datasets\r\n",
      "  Downloading tensorflow_datasets-3.1.0-py3-none-any.whl (3.3 MB)\r\n",
      "\u001b[K     |████████████████████████████████| 3.3 MB 2.7 MB/s \r\n",
      "\u001b[?25hRequirement already satisfied: wrapt in /opt/conda/lib/python3.7/site-packages (from tensorflow-datasets) (1.11.2)\r\n",
      "Requirement already satisfied: future in /opt/conda/lib/python3.7/site-packages (from tensorflow-datasets) (0.18.2)\r\n",
      "Requirement already satisfied: termcolor in /opt/conda/lib/python3.7/site-packages (from tensorflow-datasets) (1.1.0)\r\n",
      "Requirement already satisfied: promise in /opt/conda/lib/python3.7/site-packages (from tensorflow-datasets) (2.3)\r\n",
      "Requirement already satisfied: protobuf>=3.6.1 in /opt/conda/lib/python3.7/site-packages (from tensorflow-datasets) (3.11.4)\r\n",
      "Collecting tensorflow-metadata\r\n",
      "  Downloading tensorflow_metadata-0.22.1-py2.py3-none-any.whl (31 kB)\r\n",
      "Requirement already satisfied: dill in /opt/conda/lib/python3.7/site-packages (from tensorflow-datasets) (0.3.1.1)\r\n",
      "Requirement already satisfied: numpy in /opt/conda/lib/python3.7/site-packages (from tensorflow-datasets) (1.18.1)\r\n",
      "Requirement already satisfied: requests>=2.19.0 in /opt/conda/lib/python3.7/site-packages (from tensorflow-datasets) (2.23.0)\r\n",
      "Requirement already satisfied: six in /opt/conda/lib/python3.7/site-packages (from tensorflow-datasets) (1.14.0)\r\n",
      "Requirement already satisfied: absl-py in /opt/conda/lib/python3.7/site-packages (from tensorflow-datasets) (0.9.0)\r\n",
      "Requirement already satisfied: attrs>=18.1.0 in /opt/conda/lib/python3.7/site-packages (from tensorflow-datasets) (19.3.0)\r\n",
      "Requirement already satisfied: tqdm in /opt/conda/lib/python3.7/site-packages (from tensorflow-datasets) (4.45.0)\r\n",
      "Requirement already satisfied: setuptools in /opt/conda/lib/python3.7/site-packages (from protobuf>=3.6.1->tensorflow-datasets) (46.1.3.post20200325)\r\n",
      "Requirement already satisfied: googleapis-common-protos in /opt/conda/lib/python3.7/site-packages (from tensorflow-metadata->tensorflow-datasets) (1.51.0)\r\n",
      "Requirement already satisfied: certifi>=2017.4.17 in /opt/conda/lib/python3.7/site-packages (from requests>=2.19.0->tensorflow-datasets) (2020.4.5.1)\r\n",
      "Requirement already satisfied: idna<3,>=2.5 in /opt/conda/lib/python3.7/site-packages (from requests>=2.19.0->tensorflow-datasets) (2.9)\r\n",
      "Requirement already satisfied: chardet<4,>=3.0.2 in /opt/conda/lib/python3.7/site-packages (from requests>=2.19.0->tensorflow-datasets) (3.0.4)\r\n",
      "Requirement already satisfied: urllib3!=1.25.0,!=1.25.1,<1.26,>=1.21.1 in /opt/conda/lib/python3.7/site-packages (from requests>=2.19.0->tensorflow-datasets) (1.24.3)\r\n",
      "Installing collected packages: tensorflow-metadata, tensorflow-datasets\r\n",
      "Successfully installed tensorflow-datasets-3.1.0 tensorflow-metadata-0.22.1\r\n",
      "\u001b[33mWARNING: You are using pip version 20.1; however, version 20.1.1 is available.\r\n",
      "You should consider upgrading via the '/opt/conda/bin/python3.7 -m pip install --upgrade pip' command.\u001b[0m\r\n"
     ]
    }
   ],
   "source": [
    "!pip install tensorflow-datasets"
   ]
  },
  {
   "cell_type": "markdown",
   "execution_count": null,
   "metadata": {},
   "source": [
    "## Definindo os pacotes requeridos\n",
    "\n",
    "Abaixo temos todos os pacotes requeridos para executar este trabalho."
   ]
  },
  {
   "cell_type": "code",
   "execution_count": 2,
   "metadata": {},
   "outputs": [],
   "source": [
    "# basic libraries\n",
    "import os\n",
    "import random\n",
    "import numpy as np\n",
    "import matplotlib.pyplot as plt\n",
    "\n",
    "# to perform Neural Networki analysis\n",
    "import tensorflow as tf\n",
    "import tensorflow_datasets as tfds\n",
    "\n",
    "from tensorflow.keras.layers import Input, Dense, Dropout, Conv2D, MaxPooling2D, Flatten, BatchNormalization\n",
    "from tensorflow.keras.models import Model\n",
    "from tensorflow.keras.utils import to_categorical\n",
    "from tensorflow.keras.preprocessing.image import ImageDataGenerator\n",
    "from tensorflow.keras.callbacks import ModelCheckpoint\n",
    "\n",
    "from mlxtend.plotting import plot_confusion_matrix\n",
    "from sklearn.metrics import confusion_matrix, classification_report, accuracy_score\n",
    "\n",
    "# to perform Random Forest analysis\n",
    "from sklearn.ensemble import RandomForestClassifier\n",
    "\n",
    "# to perform Hyperopt otimization\n",
    "from hyperopt import hp, fmin, tpe, STATUS_OK, Trials"
   ]
  },
  {
   "cell_type": "markdown",
   "execution_count": null,
   "metadata": {},
   "source": [
    "## Garantindo reprodutibilidade\n",
    "\n",
    "Como o objetivo de garantir que os resultados sejam reproduzíveis a qualquer tempo, todos os seeds serão inicializados com o mesmo número."
   ]
  },
  {
   "cell_type": "code",
   "execution_count": 3,
   "metadata": {},
   "outputs": [],
   "source": [
    "# the answer to life the universe and everything\n",
    "seed = 42\n",
    "\n",
    "# defining the same seed for all ramdomic modules\n",
    "random.seed(seed)\n",
    "np.random.seed(seed)\n",
    "tf.random.set_seed(seed)"
   ]
  },
  {
   "cell_type": "markdown",
   "execution_count": null,
   "metadata": {},
   "source": [
    "# MNIST Datasets\n",
    "\n",
    "O banco de dados MNIST (do inglês, Modified National Institute of Standards and Technology database) é um grande banco de dados de dígitos manuscritos que é comumente usado para o treinamento de vários sistemas de processamento de imagens. Este banco de dados também é amplamente utilizado para treinamento e testes no campo da *machine learning*. Foi criado misturando as amostras dos conjuntos de dados originais do NIST.\n",
    "\n",
    "Os criadores acharam que, como o conjunto de dados de treinamento do NIST foi obtido de funcionários do American Census Bureau, enquanto o conjunto de dados de teste foi coletado de estudantes americanos do ensino médio, não era adequado para experimentos de aprendizado de máquina. Além disso, as imagens em preto e branco do NIST foram normalizadas para caber em uma caixa delimitadora de 28x28 pixels e anti-alias, o que introduziu níveis de escala de cinza. \n",
    "\n",
    "O MNIST contém 60.000 imagens de treinamento e 10.000 imagens de teste. Metade do conjunto de treinamento e metade do conjunto de testes foram retirados do conjunto de dados de treinamento do NIST, enquanto a outra metade do conjunto de treinamento e a outra metade do conjunto de testes foram retirados do conjunto de dados de teste do NIST. "
   ]
  },
  {
   "cell_type": "code",
   "execution_count": 4,
   "metadata": {},
   "outputs": [
    {
     "name": "stdout",
     "output_type": "stream",
     "text": [
      "\u001b[1mDownloading and preparing dataset mnist/3.0.1 (download: 11.06 MiB, generated: 21.00 MiB, total: 32.06 MiB) to /root/tensorflow_datasets/mnist/3.0.1...\u001b[0m\n"
     ]
    },
    {
     "data": {
      "application/vnd.jupyter.widget-view+json": {
       "model_id": "309674023ec0478ea9a7d3ed68e5b81c",
       "version_major": 2,
       "version_minor": 0
      },
      "text/plain": [
       "HBox(children=(FloatProgress(value=0.0, description='Dl Completed...', max=4.0, style=ProgressStyle(descriptio…"
      ]
     },
     "metadata": {},
     "output_type": "display_data"
    },
    {
     "name": "stdout",
     "output_type": "stream",
     "text": [
      "\n",
      "\n",
      "\u001b[1mDataset mnist downloaded and prepared to /root/tensorflow_datasets/mnist/3.0.1. Subsequent calls will reuse this data.\u001b[0m\n"
     ]
    }
   ],
   "source": [
    "# defining train dataset\n",
    "x_train, y_train = tfds.as_numpy(\n",
    "    tfds.load('mnist', \n",
    "              batch_size = -1,\n",
    "              split = 'train',\n",
    "              as_supervised = True))\n",
    "\n",
    "# defining test dataset\n",
    "x_test, y_test = tfds.as_numpy(\n",
    "    tfds.load('mnist', \n",
    "              batch_size = -1,\n",
    "              split = 'test',\n",
    "              as_supervised = True))"
   ]
  },
  {
   "cell_type": "markdown",
   "execution_count": null,
   "metadata": {},
   "source": [
    "## Checando o dataset do MNIST\n",
    "\n",
    "Para averiguar se o dataset foi carregado, será utilizado o código abaixo para checar algumas imagens do dataset de treino."
   ]
  },
  {
   "cell_type": "code",
   "execution_count": 5,
   "metadata": {},
   "outputs": [
    {
     "data": {
      "image/png": "[encoded data removed]",
      "text/plain": [
       "<Figure size 432x432 with 24 Axes>"
      ]
     },
     "metadata": {
      "needs_background": "light"
     },
     "output_type": "display_data"
    }
   ],
   "source": [
    "plt.rcParams.update({'font.size': 16})\n",
    "\n",
    "fig = plt.figure(figsize = (6, 6))\n",
    "columns = 6\n",
    "rows = 4\n",
    "\n",
    "for i in range(1, columns * rows + 1):\n",
    "    rnd = np.random.randint(0, len(x_train))\n",
    "    img = np.reshape(x_train[rnd], (28, 28))\n",
    "    fig.add_subplot(rows, columns, i)\n",
    "    plt.title(y_train[rnd])\n",
    "    plt.axis('off')\n",
    "    plt.imshow(img, cmap = 'gray')\n",
    "\n",
    "plt.show()"
   ]
  },
  {
   "cell_type": "markdown",
   "execution_count": null,
   "metadata": {},
   "source": [
    "## Definindo os datasets de treino e teste\n",
    "\n",
    "Os datasets de treino e teste serão criados visando a transformação do shape dos tensores de labels **(60000,)** para **(60000, 1)**, bem como a transformação dos lables para dummies utilizando a função **to_categorical()** e, por fim, a normalização dos dados entre 0 e 1."
   ]
  },
  {
   "cell_type": "code",
   "execution_count": 6,
   "metadata": {},
   "outputs": [],
   "source": [
    "y_train = np.expand_dims(y_train, axis = 1)\n",
    "y_test  = np.expand_dims(y_test, axis = 1)\n",
    "\n",
    "y_train = to_categorical(y_train, num_classes = 10)\n",
    "y_test  = to_categorical(y_test, num_classes = 10)\n",
    "\n",
    "x_train = x_train / 255\n",
    "x_test  = x_test / 255"
   ]
  },
  {
   "cell_type": "markdown",
   "execution_count": null,
   "metadata": {},
   "source": [
    "# Redes Neurais\n",
    "\n",
    "## Iniciando com uma rede neural simples\n",
    "\n",
    "Como parte da **Questão 1**, será definida uma rede neural sequencial simples, com as seguintes características:\n",
    "\n",
    "* **Hiden layers:**\n",
    "    - **Total**: 1\n",
    "    - **Neurons:** 512\n",
    "    - **Activation function:** RELU\n",
    "    - **Dropout:** 30%\n",
    "* **Output layer:** \n",
    "    - **Neurons:** 10 neurons\n",
    "    - **Activation function:** SOFTMAX"
   ]
  },
  {
   "cell_type": "code",
   "execution_count": 7,
   "metadata": {},
   "outputs": [],
   "source": [
    "i = Input(x_train.shape[1:])\n",
    "\n",
    "a = Flatten()(i)\n",
    "\n",
    "a = Dense(512, activation = 'relu')(a)\n",
    "a = Dropout(0.3)(a)\n",
    "\n",
    "a = Dense(10, activation = 'softmax')(a)\n",
    "\n",
    "model_NNS = Model(i ,a)"
   ]
  },
  {
   "cell_type": "markdown",
   "execution_count": null,
   "metadata": {},
   "source": [
    "Na sequência, o tensor é compilado e configurado para o treino e seus resultados exibidos para conferência."
   ]
  },
  {
   "cell_type": "code",
   "execution_count": 8,
   "metadata": {},
   "outputs": [
    {
     "name": "stdout",
     "output_type": "stream",
     "text": [
      "Model: \"model\"\n",
      "_________________________________________________________________\n",
      "Layer (type)                 Output Shape              Param #   \n",
      "=================================================================\n",
      "input_1 (InputLayer)         [(None, 28, 28, 1)]       0         \n",
      "_________________________________________________________________\n",
      "flatten (Flatten)            (None, 784)               0         \n",
      "_________________________________________________________________\n",
      "dense (Dense)                (None, 512)               401920    \n",
      "_________________________________________________________________\n",
      "dropout (Dropout)            (None, 512)               0         \n",
      "_________________________________________________________________\n",
      "dense_1 (Dense)              (None, 10)                5130      \n",
      "=================================================================\n",
      "Total params: 407,050\n",
      "Trainable params: 407,050\n",
      "Non-trainable params: 0\n",
      "_________________________________________________________________\n"
     ]
    }
   ],
   "source": [
    "model_NNS.compile(optimizer = 'rmsprop',\n",
    "                  loss = \"categorical_crossentropy\",\n",
    "                  metrics = [\"accuracy\"])\n",
    "\n",
    "model_NNS.summary(line_length = None, \n",
    "                  positions = None, \n",
    "                  print_fn = None)"
   ]
  },
  {
   "cell_type": "markdown",
   "execution_count": null,
   "metadata": {},
   "source": [
    "## Criando uma nova rede neural\n",
    "\n",
    "Uma nova rede será criada com as seguintes características:\n",
    "\n",
    "* **Hiden layers:**\n",
    "    - **Total**: 3\n",
    "    - **Neurons:** 512, 256, 128, 64\n",
    "    - **Activation function:** RELU\n",
    "    - **Dropout:** 30%, 20%, 20%, 20%\n",
    "* **Output layer:** \n",
    "    - **Neurons:** 10 neurons\n",
    "    - **Activation function:** SOFTMAX"
   ]
  },
  {
   "cell_type": "code",
   "execution_count": 9,
   "metadata": {},
   "outputs": [],
   "source": [
    "i = Input(x_train.shape[1:])\n",
    "\n",
    "b = Flatten()(i)\n",
    "\n",
    "b = Dense(512, activation = 'relu')(b)\n",
    "b = Dropout(0.3)(b)\n",
    "\n",
    "b = Dense(256, activation = 'relu')(b)\n",
    "b = Dropout(0.2)(b)\n",
    "\n",
    "b = Dense(128, activation = 'relu')(b)\n",
    "b = Dropout(0.2)(b)\n",
    "\n",
    "b = Dense(64, activation = 'relu')(b)\n",
    "b = Dropout(0.2)(b)\n",
    "\n",
    "b = Dense(10, activation = 'softmax')(b)\n",
    "\n",
    "model_NNC = Model(i ,b)"
   ]
  },
  {
   "cell_type": "markdown",
   "execution_count": null,
   "metadata": {},
   "source": [
    "Novamente, o tensor é compilado e configurado para o treino e seus resultados exibidos para conferência."
   ]
  },
  {
   "cell_type": "code",
   "execution_count": 10,
   "metadata": {},
   "outputs": [
    {
     "name": "stdout",
     "output_type": "stream",
     "text": [
      "Model: \"model_1\"\n",
      "_________________________________________________________________\n",
      "Layer (type)                 Output Shape              Param #   \n",
      "=================================================================\n",
      "input_2 (InputLayer)         [(None, 28, 28, 1)]       0         \n",
      "_________________________________________________________________\n",
      "flatten_1 (Flatten)          (None, 784)               0         \n",
      "_________________________________________________________________\n",
      "dense_2 (Dense)              (None, 512)               401920    \n",
      "_________________________________________________________________\n",
      "dropout_1 (Dropout)          (None, 512)               0         \n",
      "_________________________________________________________________\n",
      "dense_3 (Dense)              (None, 256)               131328    \n",
      "_________________________________________________________________\n",
      "dropout_2 (Dropout)          (None, 256)               0         \n",
      "_________________________________________________________________\n",
      "dense_4 (Dense)              (None, 128)               32896     \n",
      "_________________________________________________________________\n",
      "dropout_3 (Dropout)          (None, 128)               0         \n",
      "_________________________________________________________________\n",
      "dense_5 (Dense)              (None, 64)                8256      \n",
      "_________________________________________________________________\n",
      "dropout_4 (Dropout)          (None, 64)                0         \n",
      "_________________________________________________________________\n",
      "dense_6 (Dense)              (None, 10)                650       \n",
      "=================================================================\n",
      "Total params: 575,050\n",
      "Trainable params: 575,050\n",
      "Non-trainable params: 0\n",
      "_________________________________________________________________\n"
     ]
    }
   ],
   "source": [
    "model_NNC.compile(optimizer = 'rmsprop',\n",
    "                  loss = \"categorical_crossentropy\",\n",
    "                  metrics = [\"accuracy\"])\n",
    "\n",
    "model_NNC.summary(line_length = None, \n",
    "                  positions = None, \n",
    "                  print_fn = None)"
   ]
  },
  {
   "cell_type": "markdown",
   "execution_count": null,
   "metadata": {},
   "source": [
    "## Criando uma nova rede neural convolucional (CNN)\n",
    "\n",
    "Uma Rede Neural Convolucional (do inglês, Convolutional Neural Network ou **CNN**) é um algoritmo de Deep Learning que pode captar uma imagem de entrada, atribuir importância (pesos e vieses que podem ser aprendidos) a vários aspectos / objetos da imagem e ser capaz de diferenciar um do outro. O pré-processamento exigido em uma **CNN** é muito menor em comparação com outros algoritmos de classificação. Enquanto nos métodos primitivos os filtros são feitos à mão, com treinamento suficiente, as CNNs têm a capacidade de aprender esses filtros / características.\n",
    "\n",
    "A arquitetura de uma **CNN** é análoga àquela do padrão de conectividade de neurônios no cérebro humano e foi inspirada na organização do Visual Cortex. Os neurônios individuais respondem a estímulos apenas em uma região restrita do campo visual conhecida como Campo Receptivo. Uma coleção desses campos se sobrepõe para cobrir toda a área visual.\n",
    "\n",
    "Uma nova rede convolucional será criada com as características definidas, conforme código a seguir."
   ]
  },
  {
   "cell_type": "code",
   "execution_count": 11,
   "metadata": {},
   "outputs": [],
   "source": [
    "i = Input(x_train.shape[1:])\n",
    "\n",
    "c = Conv2D(32, (3,3), activation ='relu', padding = 'same')(i)\n",
    "c = BatchNormalization()(c)\n",
    "c = Conv2D(32, (3,3), activation ='relu', padding = 'same')(c)\n",
    "c = BatchNormalization()(c)\n",
    "c = MaxPooling2D(2,2)(c)\n",
    "\n",
    "c = Conv2D(64, (3,3), activation ='relu', padding = 'same')(c)\n",
    "c = BatchNormalization()(c)\n",
    "c = Conv2D(64, (3,3), activation ='relu', padding = 'same')(c)\n",
    "c = BatchNormalization()(c)\n",
    "c = MaxPooling2D(2,2)(c)\n",
    "\n",
    "c = Conv2D(128, (3,3), activation ='relu', padding = 'same')(c)\n",
    "c = BatchNormalization()(c)\n",
    "c = Conv2D(128, (3,3), activation ='relu', padding = 'same')(c)\n",
    "c = BatchNormalization()(c)\n",
    "c = MaxPooling2D(2,2)(c)\n",
    "\n",
    "c = Conv2D(256, (3,3), activation ='relu', padding = 'same')(c)\n",
    "c = BatchNormalization()(c)\n",
    "c = Conv2D(256, (3,3), activation ='relu', padding = 'same')(c)\n",
    "c = BatchNormalization()(c)\n",
    "c = MaxPooling2D(2,2)(c)\n",
    "\n",
    "c = Flatten()(c)\n",
    "\n",
    "c = Dense(512, activation = 'relu')(c)\n",
    "c = Dropout(0.3)(c)\n",
    "\n",
    "c = Dense(256, activation = 'relu')(c)\n",
    "c = Dropout(0.2)(c)\n",
    "\n",
    "c = Dense(128, activation = 'relu')(c)\n",
    "c = Dropout(0.2)(c)\n",
    "\n",
    "c = Dense(64, activation = 'relu')(c)\n",
    "c = Dropout(0.2)(c)\n",
    "\n",
    "c = Dense(10, activation = 'softmax')(c)\n",
    "\n",
    "model_CNN = Model(i, c)"
   ]
  },
  {
   "cell_type": "markdown",
   "execution_count": null,
   "metadata": {},
   "source": [
    "A rede convolucional será verificada, posteriormente, quanto a acurácia de classificação das imagens."
   ]
  },
  {
   "cell_type": "code",
   "execution_count": 12,
   "metadata": {},
   "outputs": [
    {
     "name": "stdout",
     "output_type": "stream",
     "text": [
      "Model: \"model_2\"\n",
      "_________________________________________________________________\n",
      "Layer (type)                 Output Shape              Param #   \n",
      "=================================================================\n",
      "input_3 (InputLayer)         [(None, 28, 28, 1)]       0         \n",
      "_________________________________________________________________\n",
      "conv2d (Conv2D)              (None, 28, 28, 32)        320       \n",
      "_________________________________________________________________\n",
      "batch_normalization (BatchNo (None, 28, 28, 32)        128       \n",
      "_________________________________________________________________\n",
      "conv2d_1 (Conv2D)            (None, 28, 28, 32)        9248      \n",
      "_________________________________________________________________\n",
      "batch_normalization_1 (Batch (None, 28, 28, 32)        128       \n",
      "_________________________________________________________________\n",
      "max_pooling2d (MaxPooling2D) (None, 14, 14, 32)        0         \n",
      "_________________________________________________________________\n",
      "conv2d_2 (Conv2D)            (None, 14, 14, 64)        18496     \n",
      "_________________________________________________________________\n",
      "batch_normalization_2 (Batch (None, 14, 14, 64)        256       \n",
      "_________________________________________________________________\n",
      "conv2d_3 (Conv2D)            (None, 14, 14, 64)        36928     \n",
      "_________________________________________________________________\n",
      "batch_normalization_3 (Batch (None, 14, 14, 64)        256       \n",
      "_________________________________________________________________\n",
      "max_pooling2d_1 (MaxPooling2 (None, 7, 7, 64)          0         \n",
      "_________________________________________________________________\n",
      "conv2d_4 (Conv2D)            (None, 7, 7, 128)         73856     \n",
      "_________________________________________________________________\n",
      "batch_normalization_4 (Batch (None, 7, 7, 128)         512       \n",
      "_________________________________________________________________\n",
      "conv2d_5 (Conv2D)            (None, 7, 7, 128)         147584    \n",
      "_________________________________________________________________\n",
      "batch_normalization_5 (Batch (None, 7, 7, 128)         512       \n",
      "_________________________________________________________________\n",
      "max_pooling2d_2 (MaxPooling2 (None, 3, 3, 128)         0         \n",
      "_________________________________________________________________\n",
      "conv2d_6 (Conv2D)            (None, 3, 3, 256)         295168    \n",
      "_________________________________________________________________\n",
      "batch_normalization_6 (Batch (None, 3, 3, 256)         1024      \n",
      "_________________________________________________________________\n",
      "conv2d_7 (Conv2D)            (None, 3, 3, 256)         590080    \n",
      "_________________________________________________________________\n",
      "batch_normalization_7 (Batch (None, 3, 3, 256)         1024      \n",
      "_________________________________________________________________\n",
      "max_pooling2d_3 (MaxPooling2 (None, 1, 1, 256)         0         \n",
      "_________________________________________________________________\n",
      "flatten_2 (Flatten)          (None, 256)               0         \n",
      "_________________________________________________________________\n",
      "dense_7 (Dense)              (None, 512)               131584    \n",
      "_________________________________________________________________\n",
      "dropout_5 (Dropout)          (None, 512)               0         \n",
      "_________________________________________________________________\n",
      "dense_8 (Dense)              (None, 256)               131328    \n",
      "_________________________________________________________________\n",
      "dropout_6 (Dropout)          (None, 256)               0         \n",
      "_________________________________________________________________\n",
      "dense_9 (Dense)              (None, 128)               32896     \n",
      "_________________________________________________________________\n",
      "dropout_7 (Dropout)          (None, 128)               0         \n",
      "_________________________________________________________________\n",
      "dense_10 (Dense)             (None, 64)                8256      \n",
      "_________________________________________________________________\n",
      "dropout_8 (Dropout)          (None, 64)                0         \n",
      "_________________________________________________________________\n",
      "dense_11 (Dense)             (None, 10)                650       \n",
      "=================================================================\n",
      "Total params: 1,480,234\n",
      "Trainable params: 1,478,314\n",
      "Non-trainable params: 1,920\n",
      "_________________________________________________________________\n"
     ]
    }
   ],
   "source": [
    "model_CNN.compile(optimizer = 'rmsprop',\n",
    "                  loss = \"categorical_crossentropy\",\n",
    "                  metrics = [\"accuracy\"])\n",
    "\n",
    "model_CNN.summary(line_length = None, \n",
    "                  positions = None, \n",
    "                  print_fn = None)"
   ]
  },
  {
   "cell_type": "markdown",
   "execution_count": null,
   "metadata": {},
   "source": [
    "## Treinando os modelos de redes neurais\n",
    "\n",
    "Os modelos serão treinados e testados de forma que ele consiga atingir, conforme solicitado pelo enunciado do trabalho:\n",
    "\n",
    "`\"(...) uma precisão de pelo menos 97% no teste, no reconhecimento das imagens de números escritos à mão livre (...)\"`  \n",
    "\n",
    "Na sequência, o modelo terá o desempenho comparado a rede neural no treino utilizando dados normalizados e não normalizados, após 50 épocas de treino."
   ]
  },
  {
   "cell_type": "code",
   "execution_count": 13,
   "metadata": {},
   "outputs": [],
   "source": [
    "batch_size = 2048\n",
    "\n",
    "train_gen = ImageDataGenerator(rotation_range = 10,\n",
    "                               horizontal_flip = False,\n",
    "                               vertical_flip = False,\n",
    "                               width_shift_range = 0.1,\n",
    "                               height_shift_range = 0.1,\n",
    "                               rescale = 1.,\n",
    "                               zoom_range = 0.2,\n",
    "                               fill_mode = 'nearest',\n",
    "                               cval = 0)\n",
    "\n",
    "train_generator_NNS = train_gen.flow(x_train, y_train, batch_size)\n",
    "\n",
    "# utilizado para o treinamento da rede sem a normalização dos dados\n",
    "train_generator_NNS_N = train_gen.flow(x_train * 255, y_train, batch_size)\n",
    "\n",
    "train_generator_NNC = train_gen.flow(x_train, y_train, batch_size)\n",
    "train_generator_CNN = train_gen.flow(x_train, y_train, batch_size)\n",
    "\n",
    "steps_per_epoch = x_train.shape[0] // batch_size\n",
    "\n",
    "checkpoint_NNS = ModelCheckpoint('model_NNS.h5', \n",
    "                                 monitor = 'val_loss', \n",
    "                                 verbose = 0, \n",
    "                                 save_best_only = True, \n",
    "                                 mode = 'auto')\n",
    "\n",
    "# checkpoint utilizado para o treinamento da rede sem a normalização dos dados\n",
    "checkpoint_NNS_N = ModelCheckpoint('model_NNS_N.h5', \n",
    "                                   monitor = 'val_loss', \n",
    "                                   verbose = 0, \n",
    "                                   save_best_only = True, \n",
    "                                   mode = 'auto')\n",
    "\n",
    "checkpoint_NNC = ModelCheckpoint('model_NNC.h5', \n",
    "                                 monitor = 'val_loss', \n",
    "                                 verbose = 0, \n",
    "                                 save_best_only = True, \n",
    "                                 mode = 'auto')\n",
    "\n",
    "checkpoint_CNN = ModelCheckpoint('model_CNN.h5', \n",
    "                                 monitor = 'val_loss', \n",
    "                                 verbose = 0, \n",
    "                                 save_best_only = True, \n",
    "                                 mode = 'auto')"
   ]
  },
  {
   "cell_type": "code",
   "execution_count": 14,
   "metadata": {},
   "outputs": [],
   "source": [
    "# setting the number of epochs\n",
    "epochs = 50"
   ]
  },
  {
   "cell_type": "code",
   "execution_count": 15,
   "metadata": {
    "_kg_hide-output": true
   },
   "outputs": [
    {
     "name": "stdout",
     "output_type": "stream",
     "text": [
      "Train for 29 steps, validate on 10000 samples\n",
      "Epoch 1/50\n",
      "29/29 [==============================] - 17s 595ms/step - loss: 1.3819 - accuracy: 0.5563 - val_loss: 0.6367 - val_accuracy: 0.8258\n",
      "Epoch 2/50\n",
      "29/29 [==============================] - 17s 582ms/step - loss: 0.8996 - accuracy: 0.7315 - val_loss: 0.4461 - val_accuracy: 0.8987\n",
      "Epoch 3/50\n",
      "29/29 [==============================] - 17s 585ms/step - loss: 0.6857 - accuracy: 0.8019 - val_loss: 0.3083 - val_accuracy: 0.9336\n",
      "Epoch 4/50\n",
      "29/29 [==============================] - 17s 591ms/step - loss: 0.5474 - accuracy: 0.8462 - val_loss: 0.2709 - val_accuracy: 0.9291\n",
      "Epoch 5/50\n",
      "29/29 [==============================] - 17s 584ms/step - loss: 0.4531 - accuracy: 0.8718 - val_loss: 0.2203 - val_accuracy: 0.9427\n",
      "Epoch 6/50\n",
      "29/29 [==============================] - 17s 588ms/step - loss: 0.3938 - accuracy: 0.8878 - val_loss: 0.1803 - val_accuracy: 0.9536\n",
      "Epoch 7/50\n",
      "29/29 [==============================] - 17s 592ms/step - loss: 0.3517 - accuracy: 0.9009 - val_loss: 0.1537 - val_accuracy: 0.9601\n",
      "Epoch 8/50\n",
      "29/29 [==============================] - 17s 584ms/step - loss: 0.3208 - accuracy: 0.9086 - val_loss: 0.1432 - val_accuracy: 0.9610\n",
      "Epoch 9/50\n",
      "29/29 [==============================] - 17s 578ms/step - loss: 0.2934 - accuracy: 0.9154 - val_loss: 0.1357 - val_accuracy: 0.9610\n",
      "Epoch 10/50\n",
      "29/29 [==============================] - 17s 585ms/step - loss: 0.2743 - accuracy: 0.9213 - val_loss: 0.1272 - val_accuracy: 0.9614\n",
      "Epoch 11/50\n",
      "29/29 [==============================] - 17s 591ms/step - loss: 0.2555 - accuracy: 0.9260 - val_loss: 0.1109 - val_accuracy: 0.9697\n",
      "Epoch 12/50\n",
      "29/29 [==============================] - 17s 580ms/step - loss: 0.2403 - accuracy: 0.9306 - val_loss: 0.1104 - val_accuracy: 0.9677\n",
      "Epoch 13/50\n",
      "29/29 [==============================] - 17s 579ms/step - loss: 0.2335 - accuracy: 0.9318 - val_loss: 0.0984 - val_accuracy: 0.9714\n",
      "Epoch 14/50\n",
      "29/29 [==============================] - 17s 592ms/step - loss: 0.2215 - accuracy: 0.9365 - val_loss: 0.0953 - val_accuracy: 0.9714\n",
      "Epoch 15/50\n",
      "29/29 [==============================] - 17s 585ms/step - loss: 0.2136 - accuracy: 0.9394 - val_loss: 0.0951 - val_accuracy: 0.9711\n",
      "Epoch 16/50\n",
      "29/29 [==============================] - 17s 584ms/step - loss: 0.2017 - accuracy: 0.9418 - val_loss: 0.0831 - val_accuracy: 0.9765\n",
      "Epoch 17/50\n",
      "29/29 [==============================] - 17s 581ms/step - loss: 0.1983 - accuracy: 0.9429 - val_loss: 0.0823 - val_accuracy: 0.9756\n",
      "Epoch 18/50\n",
      "29/29 [==============================] - 17s 599ms/step - loss: 0.1881 - accuracy: 0.9450 - val_loss: 0.0844 - val_accuracy: 0.9735\n",
      "Epoch 19/50\n",
      "29/29 [==============================] - 17s 584ms/step - loss: 0.1848 - accuracy: 0.9456 - val_loss: 0.0809 - val_accuracy: 0.9744\n",
      "Epoch 20/50\n",
      "29/29 [==============================] - 17s 589ms/step - loss: 0.1791 - accuracy: 0.9471 - val_loss: 0.0837 - val_accuracy: 0.9737\n",
      "Epoch 21/50\n",
      "29/29 [==============================] - 17s 589ms/step - loss: 0.1749 - accuracy: 0.9491 - val_loss: 0.0687 - val_accuracy: 0.9791\n",
      "Epoch 22/50\n",
      "29/29 [==============================] - 17s 589ms/step - loss: 0.1702 - accuracy: 0.9497 - val_loss: 0.0705 - val_accuracy: 0.9786\n",
      "Epoch 23/50\n",
      "29/29 [==============================] - 17s 582ms/step - loss: 0.1701 - accuracy: 0.9512 - val_loss: 0.0693 - val_accuracy: 0.9787\n",
      "Epoch 24/50\n",
      "29/29 [==============================] - 17s 587ms/step - loss: 0.1655 - accuracy: 0.9519 - val_loss: 0.0650 - val_accuracy: 0.9793\n",
      "Epoch 25/50\n",
      "29/29 [==============================] - 17s 592ms/step - loss: 0.1590 - accuracy: 0.9542 - val_loss: 0.0655 - val_accuracy: 0.9801\n",
      "Epoch 26/50\n",
      "29/29 [==============================] - 17s 582ms/step - loss: 0.1583 - accuracy: 0.9540 - val_loss: 0.0690 - val_accuracy: 0.9784\n",
      "Epoch 27/50\n",
      "29/29 [==============================] - 17s 581ms/step - loss: 0.1549 - accuracy: 0.9539 - val_loss: 0.0619 - val_accuracy: 0.9799\n",
      "Epoch 28/50\n",
      "29/29 [==============================] - 17s 597ms/step - loss: 0.1517 - accuracy: 0.9548 - val_loss: 0.0591 - val_accuracy: 0.9804\n",
      "Epoch 29/50\n",
      "29/29 [==============================] - 17s 585ms/step - loss: 0.1496 - accuracy: 0.9566 - val_loss: 0.0591 - val_accuracy: 0.9813\n",
      "Epoch 30/50\n",
      "29/29 [==============================] - 17s 587ms/step - loss: 0.1484 - accuracy: 0.9564 - val_loss: 0.0565 - val_accuracy: 0.9822\n",
      "Epoch 31/50\n",
      "29/29 [==============================] - 17s 580ms/step - loss: 0.1412 - accuracy: 0.9582 - val_loss: 0.0583 - val_accuracy: 0.9819\n",
      "Epoch 32/50\n",
      "29/29 [==============================] - 17s 589ms/step - loss: 0.1416 - accuracy: 0.9580 - val_loss: 0.0572 - val_accuracy: 0.9814\n",
      "Epoch 33/50\n",
      "29/29 [==============================] - 17s 582ms/step - loss: 0.1364 - accuracy: 0.9597 - val_loss: 0.0558 - val_accuracy: 0.9820\n",
      "Epoch 34/50\n",
      "29/29 [==============================] - 17s 597ms/step - loss: 0.1387 - accuracy: 0.9592 - val_loss: 0.0530 - val_accuracy: 0.9838\n",
      "Epoch 35/50\n",
      "29/29 [==============================] - 17s 571ms/step - loss: 0.1369 - accuracy: 0.9603 - val_loss: 0.0532 - val_accuracy: 0.9818\n",
      "Epoch 36/50\n",
      "29/29 [==============================] - 17s 583ms/step - loss: 0.1312 - accuracy: 0.9607 - val_loss: 0.0498 - val_accuracy: 0.9836\n",
      "Epoch 37/50\n",
      "29/29 [==============================] - 17s 580ms/step - loss: 0.1308 - accuracy: 0.9611 - val_loss: 0.0484 - val_accuracy: 0.9845\n",
      "Epoch 38/50\n",
      "29/29 [==============================] - 17s 579ms/step - loss: 0.1299 - accuracy: 0.9615 - val_loss: 0.0488 - val_accuracy: 0.9840\n",
      "Epoch 39/50\n",
      "29/29 [==============================] - 17s 591ms/step - loss: 0.1274 - accuracy: 0.9616 - val_loss: 0.0473 - val_accuracy: 0.9845\n",
      "Epoch 40/50\n",
      "29/29 [==============================] - 17s 582ms/step - loss: 0.1298 - accuracy: 0.9620 - val_loss: 0.0482 - val_accuracy: 0.9847\n",
      "Epoch 41/50\n",
      "29/29 [==============================] - 17s 585ms/step - loss: 0.1253 - accuracy: 0.9624 - val_loss: 0.0478 - val_accuracy: 0.9841\n",
      "Epoch 42/50\n",
      "29/29 [==============================] - 17s 586ms/step - loss: 0.1250 - accuracy: 0.9633 - val_loss: 0.0456 - val_accuracy: 0.9843\n",
      "Epoch 43/50\n",
      "29/29 [==============================] - 17s 589ms/step - loss: 0.1254 - accuracy: 0.9625 - val_loss: 0.0475 - val_accuracy: 0.9836\n",
      "Epoch 44/50\n",
      "29/29 [==============================] - 18s 609ms/step - loss: 0.1215 - accuracy: 0.9633 - val_loss: 0.0470 - val_accuracy: 0.9848\n",
      "Epoch 45/50\n",
      "29/29 [==============================] - 17s 584ms/step - loss: 0.1201 - accuracy: 0.9643 - val_loss: 0.0429 - val_accuracy: 0.9862\n",
      "Epoch 46/50\n",
      "29/29 [==============================] - 18s 605ms/step - loss: 0.1202 - accuracy: 0.9643 - val_loss: 0.0444 - val_accuracy: 0.9852\n",
      "Epoch 47/50\n",
      "29/29 [==============================] - 17s 572ms/step - loss: 0.1187 - accuracy: 0.9645 - val_loss: 0.0428 - val_accuracy: 0.9858\n",
      "Epoch 48/50\n",
      "29/29 [==============================] - 17s 580ms/step - loss: 0.1169 - accuracy: 0.9652 - val_loss: 0.0455 - val_accuracy: 0.9841\n",
      "Epoch 49/50\n",
      "29/29 [==============================] - 17s 586ms/step - loss: 0.1202 - accuracy: 0.9643 - val_loss: 0.0427 - val_accuracy: 0.9860\n",
      "Epoch 50/50\n",
      "29/29 [==============================] - 17s 583ms/step - loss: 0.1165 - accuracy: 0.9663 - val_loss: 0.0425 - val_accuracy: 0.9852\n",
      "CPU times: user 17min 43s, sys: 7.59 s, total: 17min 51s\n",
      "Wall time: 14min 11s\n"
     ]
    }
   ],
   "source": [
    "%%time\n",
    "history_NNS = model_NNS.fit(train_generator_NNS, \n",
    "                            validation_data = (x_test, y_test), \n",
    "                            steps_per_epoch = steps_per_epoch, \n",
    "                            epochs = epochs,\n",
    "                            callbacks = [checkpoint_NNS])"
   ]
  },
  {
   "cell_type": "markdown",
   "execution_count": null,
   "metadata": {},
   "source": [
    "Seguindo a proposta da **Questão 1**, será realizada uma execução para avaliar o treino da rede com dados não normalizados."
   ]
  },
  {
   "cell_type": "code",
   "execution_count": 16,
   "metadata": {
    "_kg_hide-output": true
   },
   "outputs": [
    {
     "name": "stdout",
     "output_type": "stream",
     "text": [
      "Train for 29 steps, validate on 10000 samples\n",
      "Epoch 1/50\n",
      "29/29 [==============================] - 16s 562ms/step - loss: 14.3350 - accuracy: 0.9627 - val_loss: 3.2515 - val_accuracy: 0.9853\n",
      "Epoch 2/50\n",
      "29/29 [==============================] - 17s 576ms/step - loss: 10.3046 - accuracy: 0.9618 - val_loss: 2.6958 - val_accuracy: 0.9841\n",
      "Epoch 3/50\n",
      "29/29 [==============================] - 17s 586ms/step - loss: 8.4551 - accuracy: 0.9597 - val_loss: 2.5009 - val_accuracy: 0.9823\n",
      "Epoch 4/50\n",
      "29/29 [==============================] - 17s 576ms/step - loss: 7.7189 - accuracy: 0.9573 - val_loss: 1.9715 - val_accuracy: 0.9824\n",
      "Epoch 5/50\n",
      "29/29 [==============================] - 17s 576ms/step - loss: 6.4726 - accuracy: 0.9536 - val_loss: 1.9706 - val_accuracy: 0.9801\n",
      "Epoch 6/50\n",
      "29/29 [==============================] - 17s 569ms/step - loss: 5.9565 - accuracy: 0.9487 - val_loss: 1.8164 - val_accuracy: 0.9780\n",
      "Epoch 7/50\n",
      "29/29 [==============================] - 17s 580ms/step - loss: 5.1207 - accuracy: 0.9439 - val_loss: 1.5008 - val_accuracy: 0.9776\n",
      "Epoch 8/50\n",
      "29/29 [==============================] - 16s 569ms/step - loss: 4.5471 - accuracy: 0.9408 - val_loss: 1.3903 - val_accuracy: 0.9744\n",
      "Epoch 9/50\n",
      "29/29 [==============================] - 17s 571ms/step - loss: 4.1961 - accuracy: 0.9360 - val_loss: 1.2180 - val_accuracy: 0.9739\n",
      "Epoch 10/50\n",
      "29/29 [==============================] - 17s 580ms/step - loss: 3.6785 - accuracy: 0.9300 - val_loss: 1.2089 - val_accuracy: 0.9691\n",
      "Epoch 11/50\n",
      "29/29 [==============================] - 17s 575ms/step - loss: 3.2092 - accuracy: 0.9228 - val_loss: 1.0656 - val_accuracy: 0.9669\n",
      "Epoch 12/50\n",
      "29/29 [==============================] - 17s 575ms/step - loss: 2.8935 - accuracy: 0.9101 - val_loss: 0.9621 - val_accuracy: 0.9556\n",
      "Epoch 13/50\n",
      "29/29 [==============================] - 17s 574ms/step - loss: 2.5646 - accuracy: 0.8937 - val_loss: 0.8702 - val_accuracy: 0.9452\n",
      "Epoch 14/50\n",
      "29/29 [==============================] - 17s 576ms/step - loss: 2.0611 - accuracy: 0.8778 - val_loss: 0.6959 - val_accuracy: 0.9471\n",
      "Epoch 15/50\n",
      "29/29 [==============================] - 17s 577ms/step - loss: 1.8053 - accuracy: 0.8585 - val_loss: 0.5893 - val_accuracy: 0.9321\n",
      "Epoch 16/50\n",
      "29/29 [==============================] - 16s 565ms/step - loss: 1.5708 - accuracy: 0.8428 - val_loss: 0.5569 - val_accuracy: 0.9286\n",
      "Epoch 17/50\n",
      "29/29 [==============================] - 17s 577ms/step - loss: 1.3774 - accuracy: 0.8314 - val_loss: 0.4871 - val_accuracy: 0.9258\n",
      "Epoch 18/50\n",
      "29/29 [==============================] - 17s 573ms/step - loss: 1.2599 - accuracy: 0.8259 - val_loss: 0.4755 - val_accuracy: 0.9268\n",
      "Epoch 19/50\n",
      "29/29 [==============================] - 17s 578ms/step - loss: 1.0876 - accuracy: 0.8274 - val_loss: 0.4216 - val_accuracy: 0.9260\n",
      "Epoch 20/50\n",
      "29/29 [==============================] - 16s 568ms/step - loss: 0.9739 - accuracy: 0.8303 - val_loss: 0.4388 - val_accuracy: 0.9202\n",
      "Epoch 21/50\n",
      "29/29 [==============================] - 17s 580ms/step - loss: 0.9483 - accuracy: 0.8292 - val_loss: 0.4271 - val_accuracy: 0.9283\n",
      "Epoch 22/50\n",
      "29/29 [==============================] - 17s 572ms/step - loss: 0.9251 - accuracy: 0.8348 - val_loss: 0.3571 - val_accuracy: 0.9339\n",
      "Epoch 23/50\n",
      "29/29 [==============================] - 17s 574ms/step - loss: 0.8348 - accuracy: 0.8447 - val_loss: 0.3681 - val_accuracy: 0.9346\n",
      "Epoch 24/50\n",
      "29/29 [==============================] - 17s 578ms/step - loss: 0.8348 - accuracy: 0.8470 - val_loss: 0.3564 - val_accuracy: 0.9346\n",
      "Epoch 25/50\n",
      "29/29 [==============================] - 17s 577ms/step - loss: 0.7925 - accuracy: 0.8503 - val_loss: 0.3551 - val_accuracy: 0.9381\n",
      "Epoch 26/50\n",
      "29/29 [==============================] - 17s 575ms/step - loss: 0.7746 - accuracy: 0.8534 - val_loss: 0.3331 - val_accuracy: 0.9371\n",
      "Epoch 27/50\n",
      "29/29 [==============================] - 17s 577ms/step - loss: 0.7689 - accuracy: 0.8549 - val_loss: 0.3640 - val_accuracy: 0.9393\n",
      "Epoch 28/50\n",
      "29/29 [==============================] - 17s 578ms/step - loss: 0.7304 - accuracy: 0.8590 - val_loss: 0.3450 - val_accuracy: 0.9424\n",
      "Epoch 29/50\n",
      "29/29 [==============================] - 17s 576ms/step - loss: 0.7162 - accuracy: 0.8662 - val_loss: 0.3324 - val_accuracy: 0.9438\n",
      "Epoch 30/50\n",
      "29/29 [==============================] - 17s 574ms/step - loss: 0.7436 - accuracy: 0.8661 - val_loss: 0.2907 - val_accuracy: 0.9466\n",
      "Epoch 31/50\n",
      "29/29 [==============================] - 17s 575ms/step - loss: 0.6581 - accuracy: 0.8700 - val_loss: 0.2795 - val_accuracy: 0.9509\n",
      "Epoch 32/50\n",
      "29/29 [==============================] - 17s 585ms/step - loss: 0.6801 - accuracy: 0.8724 - val_loss: 0.2921 - val_accuracy: 0.9454\n",
      "Epoch 33/50\n",
      "29/29 [==============================] - 17s 578ms/step - loss: 0.6333 - accuracy: 0.8754 - val_loss: 0.2943 - val_accuracy: 0.9468\n",
      "Epoch 34/50\n",
      "29/29 [==============================] - 17s 578ms/step - loss: 0.6605 - accuracy: 0.8734 - val_loss: 0.2711 - val_accuracy: 0.9510\n",
      "Epoch 35/50\n",
      "29/29 [==============================] - 17s 581ms/step - loss: 0.6075 - accuracy: 0.8785 - val_loss: 0.2501 - val_accuracy: 0.9538\n",
      "Epoch 36/50\n",
      "29/29 [==============================] - 17s 577ms/step - loss: 0.6312 - accuracy: 0.8776 - val_loss: 0.2725 - val_accuracy: 0.9495\n",
      "Epoch 37/50\n",
      "29/29 [==============================] - 17s 575ms/step - loss: 0.6669 - accuracy: 0.8786 - val_loss: 0.2637 - val_accuracy: 0.9531\n",
      "Epoch 38/50\n",
      "29/29 [==============================] - 17s 572ms/step - loss: 0.6005 - accuracy: 0.8808 - val_loss: 0.2726 - val_accuracy: 0.9519\n",
      "Epoch 39/50\n",
      "29/29 [==============================] - 17s 583ms/step - loss: 0.5948 - accuracy: 0.8836 - val_loss: 0.2358 - val_accuracy: 0.9579\n",
      "Epoch 40/50\n",
      "29/29 [==============================] - 17s 575ms/step - loss: 0.5835 - accuracy: 0.8869 - val_loss: 0.2480 - val_accuracy: 0.9543\n",
      "Epoch 41/50\n",
      "29/29 [==============================] - 17s 571ms/step - loss: 0.5893 - accuracy: 0.8865 - val_loss: 0.2508 - val_accuracy: 0.9565\n",
      "Epoch 42/50\n",
      "29/29 [==============================] - 17s 585ms/step - loss: 0.5747 - accuracy: 0.8882 - val_loss: 0.2639 - val_accuracy: 0.9573\n",
      "Epoch 43/50\n",
      "29/29 [==============================] - 17s 580ms/step - loss: 0.5982 - accuracy: 0.8879 - val_loss: 0.2513 - val_accuracy: 0.9576\n",
      "Epoch 44/50\n",
      "29/29 [==============================] - 17s 580ms/step - loss: 0.5636 - accuracy: 0.8903 - val_loss: 0.2163 - val_accuracy: 0.9618\n",
      "Epoch 45/50\n",
      "29/29 [==============================] - 17s 573ms/step - loss: 0.5359 - accuracy: 0.8909 - val_loss: 0.2845 - val_accuracy: 0.9558\n",
      "Epoch 46/50\n",
      "29/29 [==============================] - 17s 585ms/step - loss: 0.5419 - accuracy: 0.8958 - val_loss: 0.2636 - val_accuracy: 0.9562\n",
      "Epoch 47/50\n",
      "29/29 [==============================] - 17s 579ms/step - loss: 0.5498 - accuracy: 0.8937 - val_loss: 0.2446 - val_accuracy: 0.9584\n",
      "Epoch 48/50\n",
      "29/29 [==============================] - 17s 576ms/step - loss: 0.5396 - accuracy: 0.8961 - val_loss: 0.2411 - val_accuracy: 0.9557\n",
      "Epoch 49/50\n",
      "29/29 [==============================] - 17s 579ms/step - loss: 0.5337 - accuracy: 0.8944 - val_loss: 0.2359 - val_accuracy: 0.9615\n",
      "Epoch 50/50\n",
      "29/29 [==============================] - 17s 585ms/step - loss: 0.5519 - accuracy: 0.8966 - val_loss: 0.2374 - val_accuracy: 0.9586\n",
      "CPU times: user 17min 28s, sys: 6.87 s, total: 17min 35s\n",
      "Wall time: 13min 56s\n"
     ]
    }
   ],
   "source": [
    "%%time\n",
    "history_NNS_N = model_NNS.fit(train_generator_NNS_N, \n",
    "                              validation_data = (x_test * 255, y_test), \n",
    "                              steps_per_epoch = steps_per_epoch, \n",
    "                              epochs = epochs,\n",
    "                              callbacks = [checkpoint_NNS_N])"
   ]
  },
  {
   "cell_type": "markdown",
   "execution_count": null,
   "metadata": {},
   "source": [
    "Na sequência, será realizada uma execução para avaliar o treino da rede com mais camadas para determinarmos se isto melhora ou não a qualidade dos resultados no teste."
   ]
  },
  {
   "cell_type": "code",
   "execution_count": 17,
   "metadata": {
    "_kg_hide-output": true
   },
   "outputs": [
    {
     "name": "stdout",
     "output_type": "stream",
     "text": [
      "Train for 29 steps, validate on 10000 samples\n",
      "Epoch 1/50\n",
      "29/29 [==============================] - 18s 607ms/step - loss: 1.6925 - accuracy: 0.4209 - val_loss: 0.6020 - val_accuracy: 0.8529\n",
      "Epoch 2/50\n",
      "29/29 [==============================] - 18s 605ms/step - loss: 1.0261 - accuracy: 0.6652 - val_loss: 0.3847 - val_accuracy: 0.8813\n",
      "Epoch 3/50\n",
      "29/29 [==============================] - 18s 605ms/step - loss: 0.7430 - accuracy: 0.7584 - val_loss: 0.3124 - val_accuracy: 0.9034\n",
      "Epoch 4/50\n",
      "29/29 [==============================] - 17s 603ms/step - loss: 0.5672 - accuracy: 0.8205 - val_loss: 0.3035 - val_accuracy: 0.9036\n",
      "Epoch 5/50\n",
      "29/29 [==============================] - 17s 600ms/step - loss: 0.4770 - accuracy: 0.8522 - val_loss: 0.1877 - val_accuracy: 0.9413\n",
      "Epoch 6/50\n",
      "29/29 [==============================] - 17s 602ms/step - loss: 0.4150 - accuracy: 0.8740 - val_loss: 0.1527 - val_accuracy: 0.9501\n",
      "Epoch 7/50\n",
      "29/29 [==============================] - 17s 600ms/step - loss: 0.3558 - accuracy: 0.8930 - val_loss: 0.1504 - val_accuracy: 0.9530\n",
      "Epoch 8/50\n",
      "29/29 [==============================] - 18s 613ms/step - loss: 0.3311 - accuracy: 0.9005 - val_loss: 0.0991 - val_accuracy: 0.9695\n",
      "Epoch 9/50\n",
      "29/29 [==============================] - 17s 583ms/step - loss: 0.2918 - accuracy: 0.9135 - val_loss: 0.1033 - val_accuracy: 0.9676\n",
      "Epoch 10/50\n",
      "29/29 [==============================] - 18s 607ms/step - loss: 0.2717 - accuracy: 0.9192 - val_loss: 0.0939 - val_accuracy: 0.9696\n",
      "Epoch 11/50\n",
      "29/29 [==============================] - 17s 596ms/step - loss: 0.2586 - accuracy: 0.9247 - val_loss: 0.0875 - val_accuracy: 0.9751\n",
      "Epoch 12/50\n",
      "29/29 [==============================] - 17s 593ms/step - loss: 0.2411 - accuracy: 0.9289 - val_loss: 0.0912 - val_accuracy: 0.9714\n",
      "Epoch 13/50\n",
      "29/29 [==============================] - 17s 600ms/step - loss: 0.2288 - accuracy: 0.9331 - val_loss: 0.0759 - val_accuracy: 0.9780\n",
      "Epoch 14/50\n",
      "29/29 [==============================] - 17s 593ms/step - loss: 0.2170 - accuracy: 0.9370 - val_loss: 0.0806 - val_accuracy: 0.9756\n",
      "Epoch 15/50\n",
      "29/29 [==============================] - 17s 596ms/step - loss: 0.2095 - accuracy: 0.9386 - val_loss: 0.0686 - val_accuracy: 0.9771\n",
      "Epoch 16/50\n",
      "29/29 [==============================] - 17s 595ms/step - loss: 0.1965 - accuracy: 0.9418 - val_loss: 0.0631 - val_accuracy: 0.9786\n",
      "Epoch 17/50\n",
      "29/29 [==============================] - 17s 600ms/step - loss: 0.1883 - accuracy: 0.9438 - val_loss: 0.0787 - val_accuracy: 0.9758\n",
      "Epoch 18/50\n",
      "29/29 [==============================] - 17s 595ms/step - loss: 0.1788 - accuracy: 0.9474 - val_loss: 0.0629 - val_accuracy: 0.9792\n",
      "Epoch 19/50\n",
      "29/29 [==============================] - 17s 595ms/step - loss: 0.1774 - accuracy: 0.9483 - val_loss: 0.0528 - val_accuracy: 0.9818\n",
      "Epoch 20/50\n",
      "29/29 [==============================] - 17s 603ms/step - loss: 0.1784 - accuracy: 0.9479 - val_loss: 0.0525 - val_accuracy: 0.9829\n",
      "Epoch 21/50\n",
      "29/29 [==============================] - 17s 595ms/step - loss: 0.1664 - accuracy: 0.9516 - val_loss: 0.0630 - val_accuracy: 0.9808\n",
      "Epoch 22/50\n",
      "29/29 [==============================] - 17s 593ms/step - loss: 0.1622 - accuracy: 0.9526 - val_loss: 0.0505 - val_accuracy: 0.9839\n",
      "Epoch 23/50\n",
      "29/29 [==============================] - 17s 593ms/step - loss: 0.1565 - accuracy: 0.9543 - val_loss: 0.0584 - val_accuracy: 0.9819\n",
      "Epoch 24/50\n",
      "29/29 [==============================] - 17s 603ms/step - loss: 0.1548 - accuracy: 0.9540 - val_loss: 0.0554 - val_accuracy: 0.9829\n",
      "Epoch 25/50\n",
      "29/29 [==============================] - 17s 595ms/step - loss: 0.1523 - accuracy: 0.9553 - val_loss: 0.0447 - val_accuracy: 0.9846\n",
      "Epoch 26/50\n",
      "29/29 [==============================] - 17s 590ms/step - loss: 0.1475 - accuracy: 0.9565 - val_loss: 0.0470 - val_accuracy: 0.9834\n",
      "Epoch 27/50\n",
      "29/29 [==============================] - 17s 601ms/step - loss: 0.1458 - accuracy: 0.9570 - val_loss: 0.0508 - val_accuracy: 0.9836\n",
      "Epoch 28/50\n",
      "29/29 [==============================] - 17s 589ms/step - loss: 0.1416 - accuracy: 0.9577 - val_loss: 0.0452 - val_accuracy: 0.9865\n",
      "Epoch 29/50\n",
      "29/29 [==============================] - 17s 586ms/step - loss: 0.1389 - accuracy: 0.9589 - val_loss: 0.0428 - val_accuracy: 0.9853\n",
      "Epoch 30/50\n",
      "29/29 [==============================] - 17s 584ms/step - loss: 0.1378 - accuracy: 0.9583 - val_loss: 0.0436 - val_accuracy: 0.9851\n",
      "Epoch 31/50\n",
      "29/29 [==============================] - 18s 605ms/step - loss: 0.1362 - accuracy: 0.9601 - val_loss: 0.0409 - val_accuracy: 0.9854\n",
      "Epoch 32/50\n",
      "29/29 [==============================] - 17s 579ms/step - loss: 0.1300 - accuracy: 0.9613 - val_loss: 0.0445 - val_accuracy: 0.9859\n",
      "Epoch 33/50\n",
      "29/29 [==============================] - 17s 599ms/step - loss: 0.1315 - accuracy: 0.9606 - val_loss: 0.0389 - val_accuracy: 0.9872\n",
      "Epoch 34/50\n",
      "29/29 [==============================] - 17s 594ms/step - loss: 0.1265 - accuracy: 0.9618 - val_loss: 0.0383 - val_accuracy: 0.9871\n",
      "Epoch 35/50\n",
      "29/29 [==============================] - 17s 601ms/step - loss: 0.1233 - accuracy: 0.9628 - val_loss: 0.0401 - val_accuracy: 0.9873\n",
      "Epoch 36/50\n",
      "29/29 [==============================] - 17s 591ms/step - loss: 0.1256 - accuracy: 0.9628 - val_loss: 0.0380 - val_accuracy: 0.9878\n",
      "Epoch 37/50\n",
      "29/29 [==============================] - 17s 586ms/step - loss: 0.1222 - accuracy: 0.9635 - val_loss: 0.0423 - val_accuracy: 0.9871\n",
      "Epoch 38/50\n",
      "29/29 [==============================] - 18s 605ms/step - loss: 0.1247 - accuracy: 0.9629 - val_loss: 0.0385 - val_accuracy: 0.9878\n",
      "Epoch 39/50\n",
      "29/29 [==============================] - 17s 592ms/step - loss: 0.1235 - accuracy: 0.9637 - val_loss: 0.0365 - val_accuracy: 0.9887\n",
      "Epoch 40/50\n",
      "29/29 [==============================] - 17s 585ms/step - loss: 0.1210 - accuracy: 0.9644 - val_loss: 0.0432 - val_accuracy: 0.9867\n",
      "Epoch 41/50\n",
      "29/29 [==============================] - 17s 590ms/step - loss: 0.1175 - accuracy: 0.9647 - val_loss: 0.0361 - val_accuracy: 0.9884\n",
      "Epoch 42/50\n",
      "29/29 [==============================] - 17s 590ms/step - loss: 0.1168 - accuracy: 0.9649 - val_loss: 0.0360 - val_accuracy: 0.9882\n",
      "Epoch 43/50\n",
      "29/29 [==============================] - 17s 585ms/step - loss: 0.1155 - accuracy: 0.9656 - val_loss: 0.0410 - val_accuracy: 0.9856\n",
      "Epoch 44/50\n",
      "29/29 [==============================] - 17s 589ms/step - loss: 0.1138 - accuracy: 0.9672 - val_loss: 0.0409 - val_accuracy: 0.9864\n",
      "Epoch 45/50\n",
      "29/29 [==============================] - 17s 596ms/step - loss: 0.1140 - accuracy: 0.9661 - val_loss: 0.0420 - val_accuracy: 0.9865\n",
      "Epoch 46/50\n",
      "29/29 [==============================] - 17s 589ms/step - loss: 0.1135 - accuracy: 0.9668 - val_loss: 0.0351 - val_accuracy: 0.9892\n",
      "Epoch 47/50\n",
      "29/29 [==============================] - 17s 587ms/step - loss: 0.1112 - accuracy: 0.9670 - val_loss: 0.0359 - val_accuracy: 0.9877\n",
      "Epoch 48/50\n",
      "29/29 [==============================] - 17s 592ms/step - loss: 0.1092 - accuracy: 0.9677 - val_loss: 0.0358 - val_accuracy: 0.9887\n",
      "Epoch 49/50\n",
      "29/29 [==============================] - 17s 584ms/step - loss: 0.1087 - accuracy: 0.9691 - val_loss: 0.0355 - val_accuracy: 0.9890\n",
      "Epoch 50/50\n",
      "29/29 [==============================] - 17s 585ms/step - loss: 0.1049 - accuracy: 0.9687 - val_loss: 0.0378 - val_accuracy: 0.9878\n",
      "CPU times: user 20min 3s, sys: 9.9 s, total: 20min 12s\n",
      "Wall time: 14min 23s\n"
     ]
    }
   ],
   "source": [
    "%%time\n",
    "history_NNC = model_NNC.fit(train_generator_NNC, \n",
    "                            validation_data = (x_test, y_test), \n",
    "                            steps_per_epoch = steps_per_epoch, \n",
    "                            epochs = epochs,\n",
    "                            callbacks = [checkpoint_NNC])"
   ]
  },
  {
   "cell_type": "markdown",
   "execution_count": null,
   "metadata": {},
   "source": [
    "Por fim, será realizada uma execução para avaliar o treino da rede neural convolucional."
   ]
  },
  {
   "cell_type": "code",
   "execution_count": 18,
   "metadata": {
    "_kg_hide-output": true
   },
   "outputs": [
    {
     "name": "stdout",
     "output_type": "stream",
     "text": [
      "Train for 29 steps, validate on 10000 samples\n",
      "Epoch 1/50\n",
      "29/29 [==============================] - 278s 10s/step - loss: 1.2582 - accuracy: 0.5698 - val_loss: 2.7834 - val_accuracy: 0.1135\n",
      "Epoch 2/50\n",
      "29/29 [==============================] - 274s 9s/step - loss: 0.2423 - accuracy: 0.9415 - val_loss: 3.6733 - val_accuracy: 0.1135\n",
      "Epoch 3/50\n",
      "29/29 [==============================] - 272s 9s/step - loss: 0.1451 - accuracy: 0.9654 - val_loss: 5.8366 - val_accuracy: 0.1135\n",
      "Epoch 4/50\n",
      "29/29 [==============================] - 272s 9s/step - loss: 0.1176 - accuracy: 0.9729 - val_loss: 5.4300 - val_accuracy: 0.1135\n",
      "Epoch 5/50\n",
      "29/29 [==============================] - 271s 9s/step - loss: 0.0755 - accuracy: 0.9812 - val_loss: 2.6585 - val_accuracy: 0.1366\n",
      "Epoch 6/50\n",
      "29/29 [==============================] - 271s 9s/step - loss: 0.0898 - accuracy: 0.9798 - val_loss: 2.4006 - val_accuracy: 0.2362\n",
      "Epoch 7/50\n",
      "29/29 [==============================] - 270s 9s/step - loss: 0.0591 - accuracy: 0.9856 - val_loss: 2.5454 - val_accuracy: 0.2855\n",
      "Epoch 8/50\n",
      "29/29 [==============================] - 267s 9s/step - loss: 0.0519 - accuracy: 0.9876 - val_loss: 1.7983 - val_accuracy: 0.4643\n",
      "Epoch 9/50\n",
      "29/29 [==============================] - 265s 9s/step - loss: 0.0467 - accuracy: 0.9887 - val_loss: 2.2660 - val_accuracy: 0.3681\n",
      "Epoch 10/50\n",
      "29/29 [==============================] - 267s 9s/step - loss: 0.0416 - accuracy: 0.9899 - val_loss: 3.0880 - val_accuracy: 0.2697\n",
      "Epoch 11/50\n",
      "29/29 [==============================] - 268s 9s/step - loss: 0.0395 - accuracy: 0.9908 - val_loss: 1.5617 - val_accuracy: 0.5982\n",
      "Epoch 12/50\n",
      "29/29 [==============================] - 266s 9s/step - loss: 0.0374 - accuracy: 0.9911 - val_loss: 0.8922 - val_accuracy: 0.7648\n",
      "Epoch 13/50\n",
      "29/29 [==============================] - 269s 9s/step - loss: 0.0361 - accuracy: 0.9908 - val_loss: 0.5885 - val_accuracy: 0.8536\n",
      "Epoch 14/50\n",
      "29/29 [==============================] - 266s 9s/step - loss: 0.0309 - accuracy: 0.9917 - val_loss: 0.1012 - val_accuracy: 0.9698\n",
      "Epoch 15/50\n",
      "29/29 [==============================] - 267s 9s/step - loss: 0.0312 - accuracy: 0.9924 - val_loss: 0.1172 - val_accuracy: 0.9680\n",
      "Epoch 16/50\n",
      "29/29 [==============================] - 268s 9s/step - loss: 0.0303 - accuracy: 0.9921 - val_loss: 0.1583 - val_accuracy: 0.9535\n",
      "Epoch 17/50\n",
      "29/29 [==============================] - 275s 9s/step - loss: 0.0322 - accuracy: 0.9922 - val_loss: 0.0358 - val_accuracy: 0.9912\n",
      "Epoch 18/50\n",
      "29/29 [==============================] - 267s 9s/step - loss: 0.0251 - accuracy: 0.9934 - val_loss: 0.0528 - val_accuracy: 0.9850\n",
      "Epoch 19/50\n",
      "29/29 [==============================] - 264s 9s/step - loss: 0.0241 - accuracy: 0.9935 - val_loss: 0.0667 - val_accuracy: 0.9831\n",
      "Epoch 20/50\n",
      "29/29 [==============================] - 264s 9s/step - loss: 0.0273 - accuracy: 0.9934 - val_loss: 0.0213 - val_accuracy: 0.9948\n",
      "Epoch 21/50\n",
      "29/29 [==============================] - 264s 9s/step - loss: 0.0230 - accuracy: 0.9941 - val_loss: 0.0208 - val_accuracy: 0.9949\n",
      "Epoch 22/50\n",
      "29/29 [==============================] - 267s 9s/step - loss: 0.0228 - accuracy: 0.9941 - val_loss: 0.0184 - val_accuracy: 0.9950\n",
      "Epoch 23/50\n",
      "29/29 [==============================] - 268s 9s/step - loss: 0.0208 - accuracy: 0.9947 - val_loss: 0.0285 - val_accuracy: 0.9926\n",
      "Epoch 24/50\n",
      "29/29 [==============================] - 276s 10s/step - loss: 0.0227 - accuracy: 0.9943 - val_loss: 0.0601 - val_accuracy: 0.9857\n",
      "Epoch 25/50\n",
      "29/29 [==============================] - 271s 9s/step - loss: 0.0197 - accuracy: 0.9945 - val_loss: 0.0501 - val_accuracy: 0.9901\n",
      "Epoch 26/50\n",
      "29/29 [==============================] - 274s 9s/step - loss: 0.0222 - accuracy: 0.9946 - val_loss: 0.0209 - val_accuracy: 0.9939\n",
      "Epoch 27/50\n",
      "29/29 [==============================] - 274s 9s/step - loss: 0.0199 - accuracy: 0.9950 - val_loss: 0.0314 - val_accuracy: 0.9921\n",
      "Epoch 28/50\n",
      "29/29 [==============================] - 273s 9s/step - loss: 0.0190 - accuracy: 0.9953 - val_loss: 0.0246 - val_accuracy: 0.9932\n",
      "Epoch 29/50\n",
      "29/29 [==============================] - 272s 9s/step - loss: 0.0189 - accuracy: 0.9954 - val_loss: 0.0196 - val_accuracy: 0.9946\n",
      "Epoch 30/50\n",
      "29/29 [==============================] - 272s 9s/step - loss: 0.0187 - accuracy: 0.9954 - val_loss: 0.0214 - val_accuracy: 0.9939\n",
      "Epoch 31/50\n",
      "29/29 [==============================] - 280s 10s/step - loss: 0.0173 - accuracy: 0.9956 - val_loss: 0.0228 - val_accuracy: 0.9945\n",
      "Epoch 32/50\n",
      "29/29 [==============================] - 272s 9s/step - loss: 0.0210 - accuracy: 0.9948 - val_loss: 0.0244 - val_accuracy: 0.9935\n",
      "Epoch 33/50\n",
      "29/29 [==============================] - 272s 9s/step - loss: 0.0161 - accuracy: 0.9959 - val_loss: 0.0289 - val_accuracy: 0.9929\n",
      "Epoch 34/50\n",
      "29/29 [==============================] - 267s 9s/step - loss: 0.0174 - accuracy: 0.9957 - val_loss: 0.0228 - val_accuracy: 0.9944\n",
      "Epoch 35/50\n",
      "29/29 [==============================] - 265s 9s/step - loss: 0.0160 - accuracy: 0.9958 - val_loss: 0.0313 - val_accuracy: 0.9920\n",
      "Epoch 36/50\n",
      "29/29 [==============================] - 265s 9s/step - loss: 0.0192 - accuracy: 0.9952 - val_loss: 0.0370 - val_accuracy: 0.9927\n",
      "Epoch 37/50\n",
      "29/29 [==============================] - 264s 9s/step - loss: 0.0148 - accuracy: 0.9963 - val_loss: 0.0434 - val_accuracy: 0.9896\n",
      "Epoch 38/50\n",
      "29/29 [==============================] - 267s 9s/step - loss: 0.0155 - accuracy: 0.9960 - val_loss: 0.0319 - val_accuracy: 0.9934\n",
      "Epoch 39/50\n",
      "29/29 [==============================] - 268s 9s/step - loss: 0.0165 - accuracy: 0.9956 - val_loss: 0.0229 - val_accuracy: 0.9944\n",
      "Epoch 40/50\n",
      "29/29 [==============================] - 268s 9s/step - loss: 0.0139 - accuracy: 0.9964 - val_loss: 0.0436 - val_accuracy: 0.9892\n",
      "Epoch 41/50\n",
      "29/29 [==============================] - 266s 9s/step - loss: 0.0146 - accuracy: 0.9962 - val_loss: 0.0258 - val_accuracy: 0.9935\n",
      "Epoch 42/50\n",
      "29/29 [==============================] - 265s 9s/step - loss: 0.0142 - accuracy: 0.9961 - val_loss: 0.0327 - val_accuracy: 0.9920\n",
      "Epoch 43/50\n",
      "29/29 [==============================] - 265s 9s/step - loss: 0.0126 - accuracy: 0.9968 - val_loss: 0.0400 - val_accuracy: 0.9921\n",
      "Epoch 44/50\n",
      "29/29 [==============================] - 264s 9s/step - loss: 0.0143 - accuracy: 0.9963 - val_loss: 0.0260 - val_accuracy: 0.9952\n",
      "Epoch 45/50\n",
      "29/29 [==============================] - 265s 9s/step - loss: 0.0116 - accuracy: 0.9969 - val_loss: 0.0362 - val_accuracy: 0.9918\n",
      "Epoch 46/50\n",
      "29/29 [==============================] - 265s 9s/step - loss: 0.0154 - accuracy: 0.9962 - val_loss: 0.0254 - val_accuracy: 0.9939\n",
      "Epoch 47/50\n",
      "29/29 [==============================] - 267s 9s/step - loss: 0.0110 - accuracy: 0.9971 - val_loss: 0.0501 - val_accuracy: 0.9881\n",
      "Epoch 48/50\n",
      "29/29 [==============================] - 265s 9s/step - loss: 0.0136 - accuracy: 0.9965 - val_loss: 0.0223 - val_accuracy: 0.9941\n",
      "Epoch 49/50\n",
      "29/29 [==============================] - 271s 9s/step - loss: 0.0124 - accuracy: 0.9969 - val_loss: 0.0512 - val_accuracy: 0.9894\n",
      "Epoch 50/50\n",
      "29/29 [==============================] - 267s 9s/step - loss: 0.0132 - accuracy: 0.9966 - val_loss: 0.0359 - val_accuracy: 0.9917\n",
      "CPU times: user 12h 51min 38s, sys: 53min 35s, total: 13h 45min 14s\n",
      "Wall time: 3h 44min 2s\n"
     ]
    }
   ],
   "source": [
    "%%time\n",
    "history_CNN = model_CNN.fit(train_generator_CNN, \n",
    "                            validation_data = (x_test, y_test), \n",
    "                            steps_per_epoch = steps_per_epoch, \n",
    "                            epochs = epochs,\n",
    "                            callbacks = [checkpoint_CNN])"
   ]
  },
  {
   "cell_type": "code",
   "execution_count": 19,
   "metadata": {},
   "outputs": [],
   "source": [
    "model_NNS   = tf.keras.models.load_model('model_NNS.h5')\n",
    "model_NNS_N = tf.keras.models.load_model('model_NNS_N.h5')\n",
    "model_NNC   = tf.keras.models.load_model('model_NNC.h5')\n",
    "model_CNN   = tf.keras.models.load_model('model_CNN.h5')"
   ]
  },
  {
   "cell_type": "markdown",
   "execution_count": null,
   "metadata": {},
   "source": [
    "## Comparando o desempenho das 4 redes neurais\n",
    "\n",
    "Dos 4 modelos desenvolvidos é possível verificar que o modelo convolucional (CNN) é o que apresenta maior acurácia e maior velocidade de convergência dos parâmetros. Os dados normalizados não apresentaram ganho ou perdas expressivsas ao modelo."
   ]
  },
  {
   "cell_type": "code",
   "execution_count": 20,
   "metadata": {},
   "outputs": [
    {
     "name": "stdout",
     "output_type": "stream",
     "text": [
      "\u001b[1;36m[ Rede Neural Simples (Normalizada) -----------------------] \u001b[0;0m\n",
      "              precision    recall  f1-score   support\n",
      "\n",
      "           0       0.99      0.99      0.99       980\n",
      "           1       0.99      0.99      0.99      1135\n",
      "           2       0.98      0.98      0.98      1032\n",
      "           3       0.98      0.99      0.99      1010\n",
      "           4       0.99      0.97      0.98       982\n",
      "           5       0.99      0.99      0.99       892\n",
      "           6       0.99      0.99      0.99       958\n",
      "           7       0.98      0.98      0.98      1028\n",
      "           8       0.98      0.98      0.98       974\n",
      "           9       0.97      0.98      0.97      1009\n",
      "\n",
      "    accuracy                           0.99     10000\n",
      "   macro avg       0.99      0.99      0.99     10000\n",
      "weighted avg       0.99      0.99      0.99     10000\n",
      "\n",
      "Accuracy: 0.9852\n",
      "\n",
      "\r\n",
      "\u001b[1;36m[ Rede Neural Simples (Não Normalizada) -------------------] \u001b[0;0m\n",
      "              precision    recall  f1-score   support\n",
      "\n",
      "           0       0.98      0.98      0.98       980\n",
      "           1       0.99      0.98      0.99      1135\n",
      "           2       0.96      0.95      0.96      1032\n",
      "           3       0.95      0.96      0.95      1010\n",
      "           4       0.98      0.94      0.96       982\n",
      "           5       0.96      0.95      0.96       892\n",
      "           6       0.98      0.97      0.97       958\n",
      "           7       0.97      0.96      0.96      1028\n",
      "           8       0.93      0.96      0.94       974\n",
      "           9       0.93      0.96      0.94      1009\n",
      "\n",
      "    accuracy                           0.96     10000\n",
      "   macro avg       0.96      0.96      0.96     10000\n",
      "weighted avg       0.96      0.96      0.96     10000\n",
      "\n",
      "Accuracy: 0.9618\n",
      "\n",
      "\r\n",
      "\u001b[1;36m[ Rede Neural Complexa ------------------------------------] \u001b[0;0m\n",
      "              precision    recall  f1-score   support\n",
      "\n",
      "           0       1.00      0.99      1.00       980\n",
      "           1       1.00      1.00      1.00      1135\n",
      "           2       0.99      0.99      0.99      1032\n",
      "           3       0.99      0.99      0.99      1010\n",
      "           4       0.99      0.98      0.98       982\n",
      "           5       0.99      1.00      0.99       892\n",
      "           6       0.99      0.99      0.99       958\n",
      "           7       0.97      0.99      0.98      1028\n",
      "           8       1.00      0.98      0.99       974\n",
      "           9       0.98      0.98      0.98      1009\n",
      "\n",
      "    accuracy                           0.99     10000\n",
      "   macro avg       0.99      0.99      0.99     10000\n",
      "weighted avg       0.99      0.99      0.99     10000\n",
      "\n",
      "Accuracy: 0.9892\n",
      "\n",
      "\r\n",
      "\u001b[1;36m[ Rede Neural Convolucional (CNN) -------------------------] \u001b[0;0m\n",
      "              precision    recall  f1-score   support\n",
      "\n",
      "           0       1.00      1.00      1.00       980\n",
      "           1       1.00      1.00      1.00      1135\n",
      "           2       1.00      0.99      0.99      1032\n",
      "           3       0.99      1.00      1.00      1010\n",
      "           4       1.00      1.00      1.00       982\n",
      "           5       1.00      0.99      0.99       892\n",
      "           6       1.00      0.99      1.00       958\n",
      "           7       0.98      1.00      0.99      1028\n",
      "           8       0.99      1.00      0.99       974\n",
      "           9       1.00      0.99      0.99      1009\n",
      "\n",
      "    accuracy                           0.99     10000\n",
      "   macro avg       1.00      0.99      0.99     10000\n",
      "weighted avg       1.00      0.99      0.99     10000\n",
      "\n",
      "Accuracy: 0.9950\n",
      "\n",
      "\r\n"
     ]
    }
   ],
   "source": [
    "def pred(model, x_test):\n",
    "    pred_prob = model.predict(x_test)\n",
    "    pred = np.argmax(pred_prob, axis = 1)\n",
    "    return pred\n",
    "\n",
    "print('\\033[1;36m[ Rede Neural Simples (Normalizada) -----------------------] \\033[0;0m')\n",
    "print(classification_report(np.argmax(y_test, axis = 1), pred(model_NNS, x_test)))\n",
    "print(\"Accuracy: %.4f\" % accuracy_score(np.argmax(y_test, axis = 1), pred(model_NNS, x_test)))\n",
    "print('\\n\\r')\n",
    "\n",
    "print('\\033[1;36m[ Rede Neural Simples (Não Normalizada) -------------------] \\033[0;0m')\n",
    "print(classification_report(np.argmax(y_test, axis = 1), pred(model_NNS_N, x_test * 255)))\n",
    "print(\"Accuracy: %.4f\" % accuracy_score(np.argmax(y_test, axis = 1), pred(model_NNS_N, x_test * 255)))\n",
    "print('\\n\\r')\n",
    "\n",
    "print('\\033[1;36m[ Rede Neural Complexa ------------------------------------] \\033[0;0m')\n",
    "print(classification_report(np.argmax(y_test, axis = 1), pred(model_NNC, x_test)))\n",
    "print(\"Accuracy: %.4f\" % accuracy_score(np.argmax(y_test, axis = 1), pred(model_NNC, x_test)))\n",
    "print('\\n\\r')\n",
    "\n",
    "print('\\033[1;36m[ Rede Neural Convolucional (CNN) -------------------------] \\033[0;0m')\n",
    "print(classification_report(np.argmax(y_test, axis = 1), pred(model_CNN, x_test)))\n",
    "print(\"Accuracy: %.4f\" % accuracy_score(np.argmax(y_test, axis = 1), pred(model_CNN, x_test)))\n",
    "print('\\n\\r')"
   ]
  },
  {
   "cell_type": "code",
   "execution_count": 21,
   "metadata": {
    "collapsed": true
   },
   "outputs": [
    {
     "data": {
      "image/png": "[encoded data removed]",
      "text/plain": [
       "<Figure size 1152x576 with 1 Axes>"
      ]
     },
     "metadata": {
      "needs_background": "light"
     },
     "output_type": "display_data"
    },
    {
     "data": {
      "image/png": "[encoded data removed]",
      "text/plain": [
       "<Figure size 1152x576 with 1 Axes>"
      ]
     },
     "metadata": {
      "needs_background": "light"
     },
     "output_type": "display_data"
    },
    {
     "data": {
      "image/png": "[encoded data removed]",
      "text/plain": [
       "<Figure size 1152x576 with 1 Axes>"
      ]
     },
     "metadata": {
      "needs_background": "light"
     },
     "output_type": "display_data"
    },
    {
     "data": {
      "image/png": "[encoded data removed]",
      "text/plain": [
       "<Figure size 1152x576 with 1 Axes>"
      ]
     },
     "metadata": {
      "needs_background": "light"
     },
     "output_type": "display_data"
    }
   ],
   "source": [
    "plt.rcParams.update({'font.size': 16})\n",
    "\n",
    "def plot_confusion_mtx(model, x_test, plot_tittle):\n",
    "    pred_prob = model.predict(x_test)\n",
    "    pred = np.argmax(pred_prob, axis = 1)\n",
    "\n",
    "    CM = confusion_matrix(np.argmax(y_test, axis = 1), pred)\n",
    "\n",
    "    plot_confusion_matrix(conf_mat = CM, figsize = (16, 8))\n",
    "    plt.title(plot_tittle)\n",
    "    plt.xticks(range(10), [0, 1, 2, 3, 4, 5, 6, 7, 8, 9])\n",
    "    plt.yticks(range(10), [0, 1, 2, 3, 4, 5, 6, 7, 8, 9])\n",
    "\n",
    "    plt.show()\n",
    "\n",
    "plot_confusion_mtx(model_NNS, x_test, 'Rede Neural Simples (Normalizada)')\n",
    "plot_confusion_mtx(model_NNS_N, x_test * 255, 'Rede Neural Simples (Não Normalizada)')\n",
    "plot_confusion_mtx(model_NNC, x_test, 'Rede Neural Complexa')\n",
    "plot_confusion_mtx(model_CNN, x_test, 'Rede Neural Convolucional (CNN)')"
   ]
  },
  {
   "cell_type": "code",
   "execution_count": 22,
   "metadata": {},
   "outputs": [
    {
     "name": "stdout",
     "output_type": "stream",
     "text": [
      "\u001b[1;32mPerformance do modelo escolhido \u001b[0;0m\n",
      "\u001b[0;36mRede Neural Convolucional (CNN) \u001b[0;0m\n",
      "\u001b[0;36mTotal de erros: \t50\u001b[0;36m\n",
      "\u001b[0;36mTotal de acertos: \t9950\u001b[0;36m\n"
     ]
    }
   ],
   "source": [
    "y_true = np.argmax(y_test, axis = 1)\n",
    "pred_prob = model_CNN.predict(x_test)\n",
    "y_pred = np.argmax(pred_prob, axis = 1)\n",
    "errors = (y_pred - y_true != 0)\n",
    "hits = (y_pred - y_true == 0)\n",
    "\n",
    "y_test_erros  = y_pred[errors]\n",
    "y_true_errors = y_true[errors]\n",
    "x_test_errors = x_test[errors]\n",
    "\n",
    "y_test_hits  = y_pred[hits]\n",
    "y_true_hits = y_true[hits]\n",
    "x_test_hits = x_test[hits]\n",
    "\n",
    "print('\\033[1;32mPerformance do modelo escolhido \\033[0;0m')\n",
    "print('\\033[0;36mRede Neural Convolucional (CNN) \\033[0;0m')\n",
    "print('\\033[0;36mTotal de erros: \\t' + str(len(y_test_erros)) + \"\\033[0;36m\")\n",
    "print('\\033[0;36mTotal de acertos: \\t' + str(len(y_test_hits)) + \"\\033[0;36m\")"
   ]
  },
  {
   "cell_type": "markdown",
   "execution_count": null,
   "metadata": {},
   "source": [
    "Em se tratando de redes neurais não convolucionais, a aboardagem de utilização de uma única camada pode ser suficiente para resolver o problema com uma acurácia satisfatória e com um tempo de processamento não muito elevado. A adição de camadas convolucionais, tomando-se como exemplo os inúmeros testes realizados pela comunidade de cientistas de dados, mostra que  resultado das redes neurais melhorar de forma expressiva quando aplicadas a imagens."
   ]
  },
  {
   "cell_type": "markdown",
   "execution_count": null,
   "metadata": {},
   "source": [
    "# Random Forest\n",
    "\n",
    "Os chamados **métodos ensemble**, são construídos da mesma forma que algoritmos mais básicos, como regressão linear, árvore de decisão ou knn, por exemplo, mas possuem uma característica principal que os diferenciam, a combinação de diferentes modelos para se obter um único resultado. Essa característica torna esses algoritmos mais robustos e complexos, levando a um maior custo computacional que costuma ser acompanhando de melhores resultados.\n",
    "\n",
    "Normalmente na criação de um modelo, escolhemos o algoritmo que apresenta o melhor desempenho para os dados em questão. Podemos testar diferentes configurações deste algoritmo escolhido, gerando assim diferentes modelos, mas no fim do processo de machine learning, escolhemos apenas um. Com um método ensemble serão criados vários modelos diferentes a partir de um algoritmo, mas não escolheremos apenas um para utilização final, e sim todos. \n",
    "\n",
    "No algoritmo **Random Forest** serão criadas várias árvores de decisão,a “floresta” que ele cria é uma combinação (ensemble) de árvores de decisão, na maioria dos casos treinados com o método de bagging. A idéia principal do método de bagging é que a combinação dos modelos de aprendizado aumenta o resultado geral.\n",
    "\n",
    "Uma grande vantagem do algoritmo de florestas aleatórias é que ele pode ser utilizado tanto para tarefas de classificação quanto para regressão, o que representa a maioria dos sistemas de aprendizagem de máquina atuais."
   ]
  },
  {
   "cell_type": "markdown",
   "execution_count": null,
   "metadata": {},
   "source": [
    "## Reiniciando os datasets de treino e test\n",
    "\n",
    "Antes de iniciarmos a análise com o **Random Forest**, vamos reiniciar os datasets de treino e teste para sua condição inicial, a fim de termos os mesmos parâmetros de partida para analisarmos a performance, posteriormente. Também será realizados o *reshape* dos tensores para que cada pixel represente uma variável do modelo."
   ]
  },
  {
   "cell_type": "code",
   "execution_count": 23,
   "metadata": {},
   "outputs": [
    {
     "data": {
      "text/plain": [
       "(60000, 784)"
      ]
     },
     "execution_count": 23,
     "metadata": {},
     "output_type": "execute_result"
    }
   ],
   "source": [
    "x_train, y_train = tfds.as_numpy(\n",
    "    tfds.load('mnist', \n",
    "              batch_size = -1,\n",
    "              split = 'train',\n",
    "              as_supervised = True))\n",
    "\n",
    "x_test, y_test = tfds.as_numpy(\n",
    "    tfds.load('mnist', \n",
    "              batch_size = -1,\n",
    "              split = 'test',\n",
    "              as_supervised = True))\n",
    "\n",
    "# reshaping tensors to represent the pixels\n",
    "x_train = x_train.reshape([x_train.shape[0], -1]).astype('float32')\n",
    "x_test  = x_test.reshape([x_test.shape[0], -1]).astype('float32')\n",
    "\n",
    "x_train.shape"
   ]
  },
  {
   "cell_type": "markdown",
   "execution_count": null,
   "metadata": {},
   "source": [
    "## Criando e executando o modelo Random Forest (não otimizado)\n",
    "\n",
    "Conforme proposta da **Questão 2**, será criado um modelo de *Random Forest* utilizando alguns hiperparâmetros para uma análise inicial."
   ]
  },
  {
   "cell_type": "code",
   "execution_count": 24,
   "metadata": {},
   "outputs": [
    {
     "name": "stdout",
     "output_type": "stream",
     "text": [
      "CPU times: user 56 s, sys: 76 ms, total: 56.1 s\n",
      "Wall time: 14.4 s\n"
     ]
    },
    {
     "data": {
      "text/plain": [
       "RandomForestClassifier(bootstrap=True, ccp_alpha=0.0, class_weight=None,\n",
       "                       criterion='gini', max_depth=256, max_features='auto',\n",
       "                       max_leaf_nodes=None, max_samples=None,\n",
       "                       min_impurity_decrease=0.0, min_impurity_split=None,\n",
       "                       min_samples_leaf=10, min_samples_split=15,\n",
       "                       min_weight_fraction_leaf=0.0, n_estimators=100,\n",
       "                       n_jobs=-1, oob_score=False, random_state=42, verbose=0,\n",
       "                       warm_start=False)"
      ]
     },
     "execution_count": 24,
     "metadata": {},
     "output_type": "execute_result"
    }
   ],
   "source": [
    "%%time\n",
    "RF = RandomForestClassifier(n_estimators = 100,\n",
    "                            criterion = 'gini',\n",
    "                            max_depth = 256,\n",
    "                            min_samples_split = 15,\n",
    "                            min_samples_leaf = 10,\n",
    "                            n_jobs = -1,\n",
    "                            random_state = seed)\n",
    "\n",
    "RF.fit(x_train, y_train)"
   ]
  },
  {
   "cell_type": "markdown",
   "execution_count": null,
   "metadata": {},
   "source": [
    "A acurácia do modelo é verificada a seguir."
   ]
  },
  {
   "cell_type": "code",
   "execution_count": 25,
   "metadata": {},
   "outputs": [
    {
     "name": "stdout",
     "output_type": "stream",
     "text": [
      "\u001b[1;36m[ Random Forest (não otimizado) ---------------------------] \u001b[0;0m\n",
      "              precision    recall  f1-score   support\n",
      "\n",
      "           0       0.96      0.99      0.98       980\n",
      "           1       0.99      0.99      0.99      1135\n",
      "           2       0.95      0.95      0.95      1032\n",
      "           3       0.95      0.96      0.95      1010\n",
      "           4       0.96      0.96      0.96       982\n",
      "           5       0.97      0.95      0.96       892\n",
      "           6       0.96      0.97      0.96       958\n",
      "           7       0.96      0.95      0.96      1028\n",
      "           8       0.95      0.94      0.95       974\n",
      "           9       0.94      0.94      0.94      1009\n",
      "\n",
      "    accuracy                           0.96     10000\n",
      "   macro avg       0.96      0.96      0.96     10000\n",
      "weighted avg       0.96      0.96      0.96     10000\n",
      "\n",
      "Accuracy: 0.9593\n",
      "\n",
      "\r\n"
     ]
    }
   ],
   "source": [
    "pred = RF.predict(x_test)\n",
    "\n",
    "print('\\033[1;36m[ Random Forest (não otimizado) ---------------------------] \\033[0;0m')\n",
    "print(classification_report(y_test, pred))\n",
    "print(\"Accuracy: %.4f\" % accuracy_score(y_test, pred))\n",
    "print('\\n\\r')"
   ]
  },
  {
   "cell_type": "code",
   "execution_count": 26,
   "metadata": {},
   "outputs": [
    {
     "data": {
      "image/png": "[encoded data removed]",
      "text/plain": [
       "<Figure size 1152x576 with 1 Axes>"
      ]
     },
     "metadata": {
      "needs_background": "light"
     },
     "output_type": "display_data"
    }
   ],
   "source": [
    "plt.rcParams.update({'font.size': 16})\n",
    "\n",
    "def plot_confusion_mtx(model, x_test, plot_tittle):\n",
    "    pred= model.predict(x_test)\n",
    "\n",
    "    CM = confusion_matrix(y_test, pred)\n",
    "\n",
    "    plot_confusion_matrix(conf_mat = CM, figsize = (16, 8))\n",
    "    plt.title(plot_tittle)\n",
    "    plt.xticks(range(10), [0, 1, 2, 3, 4, 5, 6, 7, 8, 9])\n",
    "    plt.yticks(range(10), [0, 1, 2, 3, 4, 5, 6, 7, 8, 9])\n",
    "\n",
    "    plt.show()\n",
    "\n",
    "plot_confusion_mtx(RF, x_test, 'Random Forest (não otimizado)')"
   ]
  },
  {
   "cell_type": "code",
   "execution_count": 27,
   "metadata": {},
   "outputs": [
    {
     "name": "stdout",
     "output_type": "stream",
     "text": [
      "\u001b[1;32mPerformance do modelo \u001b[0;0m\n",
      "\u001b[0;36mRandom Forest (não otimizado) \u001b[0;0m\n",
      "\u001b[0;36mTotal de erros: \t407\u001b[0;36m\n",
      "\u001b[0;36mTotal de acertos: \t9593\u001b[0;36m\n"
     ]
    }
   ],
   "source": [
    "y_pred = RF.predict(x_test)\n",
    "errors = (y_pred - y_test != 0)\n",
    "hits = (y_pred - y_test == 0)\n",
    "\n",
    "y_test_erros  = y_pred[errors]\n",
    "y_true_errors = y_test[errors]\n",
    "x_test_errors = x_test[errors]\n",
    "\n",
    "y_test_hits  = y_pred[hits]\n",
    "y_true_hits = y_test[hits]\n",
    "x_test_hits = x_test[hits]\n",
    "\n",
    "print('\\033[1;32mPerformance do modelo \\033[0;0m')\n",
    "print('\\033[0;36mRandom Forest (não otimizado) \\033[0;0m')\n",
    "print('\\033[0;36mTotal de erros: \\t' + str(len(y_test_erros)) + \"\\033[0;36m\")\n",
    "print('\\033[0;36mTotal de acertos: \\t' + str(len(y_test_hits)) + \"\\033[0;36m\")"
   ]
  },
  {
   "cell_type": "markdown",
   "execution_count": null,
   "metadata": {},
   "source": [
    "## Otimizando o modelo Random Forest com hiperparametrização\n",
    "\n",
    "O Hyperopt é uma biblioteca Python para otimização serial e paralela em espaços de pesquisa \"estranhos\", que podem incluir dimensões com valor real, discretas e condicionais. O código a seguir inicializa um `space` de configuração de hiperparâmetros."
   ]
  },
  {
   "cell_type": "code",
   "execution_count": 28,
   "metadata": {},
   "outputs": [],
   "source": [
    "hyper_space = {'n_estimators': hp.quniform('n_estimators', 25, 500, 5),\n",
    "               'criterion': hp.choice('criterion', [\"gini\", \"entropy\"]),\n",
    "               'max_depth': hp.quniform('max_depth', 1, 100, 1),\n",
    "               'min_samples_split': hp.quniform('min_samples_split', 5, 50, 1),\n",
    "               'min_samples_leaf': hp.quniform('min_samples_leaf', 2, 20, 1)}"
   ]
  },
  {
   "cell_type": "markdown",
   "execution_count": null,
   "metadata": {},
   "source": [
    "Em seguida, será definido o  modelo em uma função que utiliza os valores presentes em nosso espaço de busca, configurado anteriormente."
   ]
  },
  {
   "cell_type": "code",
   "execution_count": 29,
   "metadata": {},
   "outputs": [],
   "source": [
    "def hyper_RF(hyper_space):\n",
    "    \n",
    "    global best_score\n",
    "    \n",
    "    RF = RandomForestClassifier(n_estimators = int(hyper_space['n_estimators']),\n",
    "                                criterion = hyper_space['criterion'],\n",
    "                                max_depth = int(hyper_space['max_depth']),\n",
    "                                min_samples_split = int(hyper_space['min_samples_split']),\n",
    "                                min_samples_leaf = int(hyper_space['min_samples_leaf']),\n",
    "                                n_jobs = -1,\n",
    "                                random_state = seed)\n",
    "\n",
    "    RF.fit(x_train, y_train)\n",
    "\n",
    "    pred = RF.predict(x_test)\n",
    "    acc = 1 - accuracy_score(y_test, pred)\n",
    "    \n",
    "    if (acc < best_score):\n",
    "        best_score = acc\n",
    "    \n",
    "    return {'loss': acc, 'status': STATUS_OK }"
   ]
  },
  {
   "cell_type": "markdown",
   "execution_count": null,
   "metadata": {},
   "source": [
    "Na sequência, será iniciado o objeto `Trials` que irá armazenar o resultdado de cada uma das **50** interações do processo de otimização realizado pela função `fmin`."
   ]
  },
  {
   "cell_type": "code",
   "execution_count": 30,
   "metadata": {},
   "outputs": [
    {
     "name": "stdout",
     "output_type": "stream",
     "text": [
      "100%|██████████| 50/50 [36:05<00:00, 43.31s/trial, best loss: 0.03090000000000004]\n",
      "CPU times: user 2h 19min 41s, sys: 6.15 s, total: 2h 19min 47s\n",
      "Wall time: 36min 5s\n"
     ]
    },
    {
     "data": {
      "text/plain": [
       "{'criterion': 1,\n",
       " 'max_depth': 99.0,\n",
       " 'min_samples_leaf': 2.0,\n",
       " 'min_samples_split': 9.0,\n",
       " 'n_estimators': 180.0}"
      ]
     },
     "execution_count": 30,
     "metadata": {},
     "output_type": "execute_result"
    }
   ],
   "source": [
    "%%time\n",
    "trials = Trials()\n",
    "neval = 50\n",
    "best_score = 0\n",
    "\n",
    "best_hyper = fmin(fn = hyper_RF,\n",
    "                  space = hyper_space,\n",
    "                  algo = tpe.suggest,\n",
    "                  max_evals = neval,\n",
    "                  trials = trials,\n",
    "                  rstate = np.random.RandomState(seed))\n",
    "\n",
    "best_hyper"
   ]
  },
  {
   "cell_type": "markdown",
   "execution_count": null,
   "metadata": {},
   "source": [
    "Por fim, será realizado o treinamento de um modelo **Random Forest** com os melhores hiperparâmetros encontrados no espaço de busca executado anteriormente."
   ]
  },
  {
   "cell_type": "code",
   "execution_count": 31,
   "metadata": {},
   "outputs": [
    {
     "data": {
      "text/plain": [
       "RandomForestClassifier(bootstrap=True, ccp_alpha=0.0, class_weight=None,\n",
       "                       criterion='entropy', max_depth=99, max_features='auto',\n",
       "                       max_leaf_nodes=None, max_samples=None,\n",
       "                       min_impurity_decrease=0.0, min_impurity_split=None,\n",
       "                       min_samples_leaf=2, min_samples_split=9,\n",
       "                       min_weight_fraction_leaf=0.0, n_estimators=180,\n",
       "                       n_jobs=-1, oob_score=False, random_state=42, verbose=0,\n",
       "                       warm_start=False)"
      ]
     },
     "execution_count": 31,
     "metadata": {},
     "output_type": "execute_result"
    }
   ],
   "source": [
    "OPT_RF = RandomForestClassifier(n_estimators = int(best_hyper['n_estimators']),\n",
    "                                criterion = [\"gini\", \"entropy\"][best_hyper['criterion']],\n",
    "                                max_depth = int(best_hyper['max_depth']),\n",
    "                                min_samples_split = int(best_hyper['min_samples_split']),\n",
    "                                min_samples_leaf = int(best_hyper['min_samples_leaf']),\n",
    "                                n_jobs = -1, \n",
    "                                random_state = seed)\n",
    "\n",
    "OPT_RF.fit(x_train, y_train)"
   ]
  },
  {
   "cell_type": "markdown",
   "execution_count": null,
   "metadata": {},
   "source": [
    "A acurácia do modelo de **Random Forest** com hiperparâmetros é verificada, de forma semelhante aos demais modelos."
   ]
  },
  {
   "cell_type": "code",
   "execution_count": 32,
   "metadata": {},
   "outputs": [
    {
     "name": "stdout",
     "output_type": "stream",
     "text": [
      "\u001b[1;36m[ Random Forest (otimizado) -------------------------------] \u001b[0;0m\n",
      "              precision    recall  f1-score   support\n",
      "\n",
      "           0       0.97      0.99      0.98       980\n",
      "           1       0.99      0.99      0.99      1135\n",
      "           2       0.96      0.96      0.96      1032\n",
      "           3       0.96      0.96      0.96      1010\n",
      "           4       0.97      0.97      0.97       982\n",
      "           5       0.97      0.96      0.97       892\n",
      "           6       0.97      0.98      0.97       958\n",
      "           7       0.97      0.96      0.97      1028\n",
      "           8       0.96      0.96      0.96       974\n",
      "           9       0.97      0.95      0.96      1009\n",
      "\n",
      "    accuracy                           0.97     10000\n",
      "   macro avg       0.97      0.97      0.97     10000\n",
      "weighted avg       0.97      0.97      0.97     10000\n",
      "\n",
      "Accuracy: 0.9691\n",
      "\n",
      "\r\n"
     ]
    }
   ],
   "source": [
    "pred = OPT_RF.predict(x_test)\n",
    "\n",
    "print('\\033[1;36m[ Random Forest (otimizado) -------------------------------] \\033[0;0m')\n",
    "print(classification_report(y_test, pred))\n",
    "print(\"Accuracy: %.4f\" % accuracy_score(y_test, pred))\n",
    "print('\\n\\r')"
   ]
  },
  {
   "cell_type": "code",
   "execution_count": 33,
   "metadata": {},
   "outputs": [
    {
     "data": {
      "image/png": "[encoded data removed]",
      "text/plain": [
       "<Figure size 1152x576 with 1 Axes>"
      ]
     },
     "metadata": {
      "needs_background": "light"
     },
     "output_type": "display_data"
    }
   ],
   "source": [
    "plot_confusion_mtx(OPT_RF, x_test, 'Random Forest - Optimized')"
   ]
  },
  {
   "cell_type": "code",
   "execution_count": 34,
   "metadata": {},
   "outputs": [
    {
     "name": "stdout",
     "output_type": "stream",
     "text": [
      "\u001b[1;32mPerformance do modelo \u001b[0;0m\n",
      "\u001b[0;36mRandom Forest (otimizado) \u001b[0;0m\n",
      "\u001b[0;36mTotal de erros: \t309\u001b[0;36m\n",
      "\u001b[0;36mTotal de acertos: \t9691\u001b[0;36m\n"
     ]
    }
   ],
   "source": [
    "y_pred = OPT_RF.predict(x_test)\n",
    "errors = (y_pred - y_test != 0)\n",
    "hits = (y_pred - y_test == 0)\n",
    "\n",
    "y_test_erros  = y_pred[errors]\n",
    "y_true_errors = y_test[errors]\n",
    "x_test_errors = x_test[errors]\n",
    "\n",
    "y_test_hits  = y_pred[hits]\n",
    "y_true_hits = y_test[hits]\n",
    "x_test_hits = x_test[hits]\n",
    "\n",
    "print('\\033[1;32mPerformance do modelo \\033[0;0m')\n",
    "print('\\033[0;36mRandom Forest (otimizado) \\033[0;0m')\n",
    "print('\\033[0;36mTotal de erros: \\t' + str(len(y_test_erros)) + \"\\033[0;36m\")\n",
    "print('\\033[0;36mTotal de acertos: \\t' + str(len(y_test_hits)) + \"\\033[0;36m\")"
   ]
  },
  {
   "cell_type": "markdown",
   "execution_count": null,
   "metadata": {},
   "source": [
    "Para a etapa do trabalho baseada em **Random Forest** foram utiliadas duas abordagens, sendo a primeira com um modelo não otimizado e a segunda utilizando hiperparâmetros. Em comparação com a etapa baseada em Redes Neurais, podemos concluir que a performance ficou aquém nos modelos baseados em **Random Forest**, ademais, o tempo de processamento e hardware necessários para executar este tipo de modelo é muito superior aos das Redes Neurais."
   ]
  },
  {
   "cell_type": "markdown",
   "execution_count": null,
   "metadata": {},
   "source": [
    "# Referências\n",
    "\n",
    "* https://www.tensorflow.org/api_docs/python/tf/keras\n",
    "* http://deeplearningbook.com.br/introducao-as-redes-neurais-convolucionais/\n",
    "* https://didatica.tech/o-que-e-e-como-funciona-o-algoritmo-randomforest/\n",
    "* https://medium.com/machina-sapiens/o-algoritmo-da-floresta-aleat%C3%B3ria-3545f6babdf8"
   ]
  }
 ],
 "metadata": {
  "kernelspec": {
   "display_name": "Python 3",
   "language": "python",
   "name": "python3"
  },
  "language_info": {
   "codemirror_mode": {
    "name": "ipython",
    "version": 3
   },
   "file_extension": ".py",
   "mimetype": "text/x-python",
   "name": "python",
   "nbconvert_exporter": "python",
   "pygments_lexer": "ipython3",
   "version": "3.7.6"
  },
  "widgets": {
   "application/vnd.jupyter.widget-state+json": {
    "state": {
     "309674023ec0478ea9a7d3ed68e5b81c": {
      "model_module": "@jupyter-widgets/controls",
      "model_module_version": "1.5.0",
      "model_name": "HBoxModel",
      "state": {
       "_dom_classes": [],
       "_model_module": "@jupyter-widgets/controls",
       "_model_module_version": "1.5.0",
       "_model_name": "HBoxModel",
       "_view_count": null,
       "_view_module": "@jupyter-widgets/controls",
       "_view_module_version": "1.5.0",
       "_view_name": "HBoxView",
       "box_style": "",
       "children": [
        "IPY_MODEL_6e88ce732dc542c7986923ec5e2e2b8a",
        "IPY_MODEL_d0c8cdf31337485fa3d967da48538d1a"
       ],
       "layout": "IPY_MODEL_7cbeeaf993234feab768d142386117c5"
      }
     },
     "53a1940e4d564cf48c0deeac0cf3f80b": {
      "model_module": "@jupyter-widgets/controls",
      "model_module_version": "1.5.0",
      "model_name": "ProgressStyleModel",
      "state": {
       "_model_module": "@jupyter-widgets/controls",
       "_model_module_version": "1.5.0",
       "_model_name": "ProgressStyleModel",
       "_view_count": null,
       "_view_module": "@jupyter-widgets/base",
       "_view_module_version": "1.2.0",
       "_view_name": "StyleView",
       "bar_color": null,
       "description_width": "initial"
      }
     },
     "6e88ce732dc542c7986923ec5e2e2b8a": {
      "model_module": "@jupyter-widgets/controls",
      "model_module_version": "1.5.0",
      "model_name": "FloatProgressModel",
      "state": {
       "_dom_classes": [],
       "_model_module": "@jupyter-widgets/controls",
       "_model_module_version": "1.5.0",
       "_model_name": "FloatProgressModel",
       "_view_count": null,
       "_view_module": "@jupyter-widgets/controls",
       "_view_module_version": "1.5.0",
       "_view_name": "ProgressView",
       "bar_style": "success",
       "description": "Dl Completed...: 100%",
       "description_tooltip": null,
       "layout": "IPY_MODEL_cbb332d7362b49df95cf9e41f49d8f1b",
       "max": 4.0,
       "min": 0.0,
       "orientation": "horizontal",
       "style": "IPY_MODEL_53a1940e4d564cf48c0deeac0cf3f80b",
       "value": 4.0
      }
     },
     "7cbeeaf993234feab768d142386117c5": {
      "model_module": "@jupyter-widgets/base",
      "model_module_version": "1.2.0",
      "model_name": "LayoutModel",
      "state": {
       "_model_module": "@jupyter-widgets/base",
       "_model_module_version": "1.2.0",
       "_model_name": "LayoutModel",
       "_view_count": null,
       "_view_module": "@jupyter-widgets/base",
       "_view_module_version": "1.2.0",
       "_view_name": "LayoutView",
       "align_content": null,
       "align_items": null,
       "align_self": null,
       "border": null,
       "bottom": null,
       "display": null,
       "flex": null,
       "flex_flow": null,
       "grid_area": null,
       "grid_auto_columns": null,
       "grid_auto_flow": null,
       "grid_auto_rows": null,
       "grid_column": null,
       "grid_gap": null,
       "grid_row": null,
       "grid_template_areas": null,
       "grid_template_columns": null,
       "grid_template_rows": null,
       "height": null,
       "justify_content": null,
       "justify_items": null,
       "left": null,
       "margin": null,
       "max_height": null,
       "max_width": null,
       "min_height": null,
       "min_width": null,
       "object_fit": null,
       "object_position": null,
       "order": null,
       "overflow": null,
       "overflow_x": null,
       "overflow_y": null,
       "padding": null,
       "right": null,
       "top": null,
       "visibility": null,
       "width": null
      }
     },
     "cbb332d7362b49df95cf9e41f49d8f1b": {
      "model_module": "@jupyter-widgets/base",
      "model_module_version": "1.2.0",
      "model_name": "LayoutModel",
      "state": {
       "_model_module": "@jupyter-widgets/base",
       "_model_module_version": "1.2.0",
       "_model_name": "LayoutModel",
       "_view_count": null,
       "_view_module": "@jupyter-widgets/base",
       "_view_module_version": "1.2.0",
       "_view_name": "LayoutView",
       "align_content": null,
       "align_items": null,
       "align_self": null,
       "border": null,
       "bottom": null,
       "display": null,
       "flex": null,
       "flex_flow": null,
       "grid_area": null,
       "grid_auto_columns": null,
       "grid_auto_flow": null,
       "grid_auto_rows": null,
       "grid_column": null,
       "grid_gap": null,
       "grid_row": null,
       "grid_template_areas": null,
       "grid_template_columns": null,
       "grid_template_rows": null,
       "height": null,
       "justify_content": null,
       "justify_items": null,
       "left": null,
       "margin": null,
       "max_height": null,
       "max_width": null,
       "min_height": null,
       "min_width": null,
       "object_fit": null,
       "object_position": null,
       "order": null,
       "overflow": null,
       "overflow_x": null,
       "overflow_y": null,
       "padding": null,
       "right": null,
       "top": null,
       "visibility": null,
       "width": null
      }
     },
     "d0c8cdf31337485fa3d967da48538d1a": {
      "model_module": "@jupyter-widgets/controls",
      "model_module_version": "1.5.0",
      "model_name": "HTMLModel",
      "state": {
       "_dom_classes": [],
       "_model_module": "@jupyter-widgets/controls",
       "_model_module_version": "1.5.0",
       "_model_name": "HTMLModel",
       "_view_count": null,
       "_view_module": "@jupyter-widgets/controls",
       "_view_module_version": "1.5.0",
       "_view_name": "HTMLView",
       "description": "",
       "description_tooltip": null,
       "layout": "IPY_MODEL_f189be37a75b4f9483cd82c63753ca11",
       "placeholder": "​",
       "style": "IPY_MODEL_faaf52baae214e6b90e3cc8a8103682d",
       "value": " 4/4 [00:01&lt;00:00,  3.17 file/s]"
      }
     },
     "f189be37a75b4f9483cd82c63753ca11": {
      "model_module": "@jupyter-widgets/base",
      "model_module_version": "1.2.0",
      "model_name": "LayoutModel",
      "state": {
       "_model_module": "@jupyter-widgets/base",
       "_model_module_version": "1.2.0",
       "_model_name": "LayoutModel",
       "_view_count": null,
       "_view_module": "@jupyter-widgets/base",
       "_view_module_version": "1.2.0",
       "_view_name": "LayoutView",
       "align_content": null,
       "align_items": null,
       "align_self": null,
       "border": null,
       "bottom": null,
       "display": null,
       "flex": null,
       "flex_flow": null,
       "grid_area": null,
       "grid_auto_columns": null,
       "grid_auto_flow": null,
       "grid_auto_rows": null,
       "grid_column": null,
       "grid_gap": null,
       "grid_row": null,
       "grid_template_areas": null,
       "grid_template_columns": null,
       "grid_template_rows": null,
       "height": null,
       "justify_content": null,
       "justify_items": null,
       "left": null,
       "margin": null,
       "max_height": null,
       "max_width": null,
       "min_height": null,
       "min_width": null,
       "object_fit": null,
       "object_position": null,
       "order": null,
       "overflow": null,
       "overflow_x": null,
       "overflow_y": null,
       "padding": null,
       "right": null,
       "top": null,
       "visibility": null,
       "width": null
      }
     },
     "faaf52baae214e6b90e3cc8a8103682d": {
      "model_module": "@jupyter-widgets/controls",
      "model_module_version": "1.5.0",
      "model_name": "DescriptionStyleModel",
      "state": {
       "_model_module": "@jupyter-widgets/controls",
       "_model_module_version": "1.5.0",
       "_model_name": "DescriptionStyleModel",
       "_view_count": null,
       "_view_module": "@jupyter-widgets/base",
       "_view_module_version": "1.2.0",
       "_view_name": "StyleView",
       "description_width": ""
      }
     }
    },
    "version_major": 2,
    "version_minor": 0
   }
  }
 },
 "nbformat": 4,
 "nbformat_minor": 4
}
