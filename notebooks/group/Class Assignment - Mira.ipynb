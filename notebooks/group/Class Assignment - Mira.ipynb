{
 "cells": [
  {
   "cell_type": "code",
   "execution_count": 1,
   "metadata": {},
   "outputs": [
    {
     "data": {
      "text/html": [
       "<style>\n",
       "  table {margin-left: 0 !important;}\n",
       "</style>\n"
      ],
      "text/plain": [
       "<IPython.core.display.HTML object>"
      ]
     },
     "metadata": {},
     "output_type": "display_data"
    }
   ],
   "source": [
    "%%html\n",
    "<style>\n",
    "  table {margin-left: 0 !important;}\n",
    "</style>"
   ]
  },
  {
   "cell_type": "markdown",
   "metadata": {},
   "source": [
    "# Trabalho em Grupo\n",
    "(até 4 integrantes)\n",
    "\n",
    "- **Curso:** FGV MBA - Business Analytics and Big Data\n",
    "- **Disciplina:** Análise P{reditiva Avançada\n",
    "- **Professor:** Gustavo Mirapalheta\n",
    "- **Tarefa:** Diagnóstico de Pneumonia\n",
    "\n",
    "## Alunos\n",
    "|Github|Nome|Matricula|E-mail|\n",
    "|---|---|---|---|\n",
    "|<a href=\"https://github.com/DanielFCampos\"><img src=\"https://avatars2.githubusercontent.com/u/31582602?s=460&v=4\" title=\"DanielFCampos\" width=\"40\" height=\"40\"></a>|Daniel Campos|A57635769|[daniel.ferraz.campos@gmail.com](daniel.ferraz.campos@gmail.com)|\n",
    "|<a href=\"https://github.com/ldaniel\"><img src=\"https://avatars2.githubusercontent.com/u/205534?s=460&v=4\" title=\"ldaniel\" width=\"40\" height=\"40\"></a>|Leandro Daniel|A57622988|[contato@leandrodaniel.com](contato@leandrodaniel.com)|\n",
    "|<a href=\"https://github.com/RodriGonca\"><img src=\"https://avatars2.githubusercontent.com/u/50252438?s=460&v=4\" title=\"RodriGonca\" width=\"40\" height=\"40\"></a>|Rodrigo Goncalves|A57566093|[rodrigo.goncalves@me.com](rodrigo.goncalves@me.com)|\n",
    "|<a href=\"https://github.com/ygorlima1\"><img src=\"https://avatars2.githubusercontent.com/u/52429828?s=460&v=4\" title=\"ygorlima1\" width=\"40\" height=\"40\"></a>|Ygor Lima|A57549661|[ygor_redesocial@hotmail.com](ygor_redesocial@hotmail.com)|"
   ]
  },
  {
   "cell_type": "code",
   "execution_count": null,
   "metadata": {},
   "outputs": [],
   "source": []
  }
 ],
 "metadata": {
  "kernelspec": {
   "display_name": "Python 3",
   "language": "python",
   "name": "python3"
  },
  "language_info": {
   "codemirror_mode": {
    "name": "ipython",
    "version": 3
   },
   "file_extension": ".py",
   "mimetype": "text/x-python",
   "name": "python",
   "nbconvert_exporter": "python",
   "pygments_lexer": "ipython3",
   "version": "3.7.7"
  }
 },
 "nbformat": 4,
 "nbformat_minor": 4
}
